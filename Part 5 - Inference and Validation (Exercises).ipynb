{
 "cells": [
  {
   "cell_type": "markdown",
   "metadata": {},
   "source": [
    "# Inference and Validation\n",
    "\n",
    "Now that you have a trained network, you can use it for making predictions. This is typically called **inference**, a term borrowed from statistics. However, neural networks have a tendency to perform *too well* on the training data and aren't able to generalize to data that hasn't been seen before. This is called **overfitting** and it impairs inference performance. To test for overfitting while training, we measure the performance on data not in the training set called the **validation** set. We avoid overfitting through regularization such as dropout while monitoring the validation performance during training. In this notebook, I'll show you how to do this in PyTorch. \n",
    "\n",
    "As usual, let's start by loading the dataset through torchvision. You'll learn more about torchvision and loading data in a later part. This time we'll be taking advantage of the test set which you can get by setting `train=False` here:\n",
    "\n",
    "```python\n",
    "testset = datasets.FashionMNIST('~/.pytorch/F_MNIST_data/', download=True, train=False, transform=transform)\n",
    "```\n",
    "\n",
    "The test set contains images just like the training set. Typically you'll see 10-20% of the original dataset held out for testing and validation with the rest being used for training."
   ]
  },
  {
   "cell_type": "code",
   "execution_count": 81,
   "metadata": {},
   "outputs": [
    {
     "name": "stdout",
     "output_type": "stream",
     "text": [
      "...Test Data...\n",
      "Dataset FashionMNIST\n",
      "    Number of datapoints: 10000\n",
      "    Split: test\n",
      "    Root Location: C:\\Users\\152703/.pytorch/F_MNIST_data/\n",
      "    Transforms (if any): Compose(\n",
      "                             ToTensor()\n",
      "                             Normalize(mean=(0.5,), std=(0.5,))\n",
      "                         )\n",
      "    Target Transforms (if any): None\n",
      "number of batches in the testloader: 157\n",
      "...Train Data...\n",
      "Dataset FashionMNIST\n",
      "    Number of datapoints: 60000\n",
      "    Split: train\n",
      "    Root Location: C:\\Users\\152703/.pytorch/F_MNIST_data/\n",
      "    Transforms (if any): Compose(\n",
      "                             ToTensor()\n",
      "                             Normalize(mean=(0.5,), std=(0.5,))\n",
      "                         )\n",
      "    Target Transforms (if any): None\n",
      "number of batches in the trainloader: 938\n"
     ]
    }
   ],
   "source": [
    "import torch\n",
    "from torchvision import datasets, transforms\n",
    "\n",
    "# Define a transform to normalize the data\n",
    "transform = transforms.Compose([transforms.ToTensor(),\n",
    "                                transforms.Normalize((0.5,), (0.5,))])\n",
    "# Download and load the training data\n",
    "trainset = datasets.FashionMNIST('~/.pytorch/F_MNIST_data/', download=True, train=True, transform=transform)\n",
    "trainloader = torch.utils.data.DataLoader(trainset, batch_size=64, shuffle=True)\n",
    "\n",
    "# Download and load the test data\n",
    "testset = datasets.FashionMNIST('~/.pytorch/F_MNIST_data/', download=True, train=False, transform=transform)\n",
    "testloader = torch.utils.data.DataLoader(testset, batch_size=64, shuffle=True)\n",
    "print('...Test Data...')\n",
    "print(testset)\n",
    "print(f'number of batches in the testloader: {len(testloader)}') #157batches of 10000 images, each batch has 64 images, the image in the loader are shuffled \n",
    "print ('...Train Data...')\n",
    "print(trainset)\n",
    "print(f'number of batches in the trainloader: {len(trainloader)}') #938batches of 60000 images, each batch has 64 images, the image in the loader are shuffled "
   ]
  },
  {
   "cell_type": "markdown",
   "metadata": {},
   "source": [
    "Here I'll create a model like normal, using the same one from my solution for part 4."
   ]
  },
  {
   "cell_type": "code",
   "execution_count": 82,
   "metadata": {},
   "outputs": [],
   "source": [
    "from torch import nn, optim\n",
    "import torch.nn.functional as F\n",
    "\n",
    "class Classifier(nn.Module):\n",
    "    def __init__(self):\n",
    "        super().__init__()\n",
    "        self.fc1 = nn.Linear(784, 256)\n",
    "        self.fc2 = nn.Linear(256, 128)\n",
    "        self.fc3 = nn.Linear(128, 64)\n",
    "        self.fc4 = nn.Linear(64, 10)\n",
    "        \n",
    "    def forward(self, x):\n",
    "        # make sure input tensor is flattened\n",
    "        x = x.view(x.shape[0], -1) \n",
    "        \n",
    "        x = F.relu(self.fc1(x))\n",
    "        x = F.relu(self.fc2(x))\n",
    "        x = F.relu(self.fc3(x))\n",
    "        x = F.log_softmax(self.fc4(x), dim=1)\n",
    "        \n",
    "        return x"
   ]
  },
  {
   "cell_type": "markdown",
   "metadata": {},
   "source": [
    "The goal of validation is to measure the model's performance on data that isn't part of the training set. Performance here is up to the developer to define though. Typically this is just accuracy, the percentage of classes the network predicted correctly. Other options are [precision and recall](https://en.wikipedia.org/wiki/Precision_and_recall#Definition_(classification_context)) and top-5 error rate. We'll focus on accuracy here. First I'll do a forward pass with one batch from the test set."
   ]
  },
  {
   "cell_type": "code",
   "execution_count": 83,
   "metadata": {},
   "outputs": [
    {
     "name": "stdout",
     "output_type": "stream",
     "text": [
      "torch.Size([64, 10])\n",
      "tensor([[0.1063, 0.0901, 0.0891, 0.1043, 0.0948, 0.0979, 0.1162, 0.0996, 0.0958,\n",
      "         0.1060],\n",
      "        [0.1045, 0.0890, 0.0901, 0.1023, 0.0974, 0.0985, 0.1129, 0.1025, 0.0996,\n",
      "         0.1031],\n",
      "        [0.1034, 0.0901, 0.0900, 0.1034, 0.0974, 0.0984, 0.1135, 0.1024, 0.0951,\n",
      "         0.1065],\n",
      "        [0.1043, 0.0900, 0.0897, 0.1052, 0.0954, 0.0969, 0.1150, 0.1014, 0.0968,\n",
      "         0.1054],\n",
      "        [0.1035, 0.0886, 0.0903, 0.1082, 0.0951, 0.0988, 0.1151, 0.1008, 0.0966,\n",
      "         0.1030],\n",
      "        [0.1023, 0.0876, 0.0880, 0.1068, 0.0954, 0.0981, 0.1164, 0.1026, 0.0970,\n",
      "         0.1058],\n",
      "        [0.1037, 0.0891, 0.0895, 0.1051, 0.0961, 0.0968, 0.1149, 0.1017, 0.0972,\n",
      "         0.1060],\n",
      "        [0.1068, 0.0890, 0.0903, 0.1051, 0.0960, 0.0971, 0.1122, 0.1025, 0.0996,\n",
      "         0.1014],\n",
      "        [0.1050, 0.0900, 0.0906, 0.1032, 0.0961, 0.0954, 0.1148, 0.1007, 0.0987,\n",
      "         0.1056],\n",
      "        [0.1039, 0.0883, 0.0901, 0.1048, 0.0983, 0.0980, 0.1134, 0.1015, 0.0985,\n",
      "         0.1032],\n",
      "        [0.1035, 0.0880, 0.0893, 0.1079, 0.0948, 0.0968, 0.1164, 0.1010, 0.0958,\n",
      "         0.1064],\n",
      "        [0.1037, 0.0894, 0.0904, 0.1036, 0.0950, 0.0987, 0.1167, 0.1022, 0.0953,\n",
      "         0.1051],\n",
      "        [0.1050, 0.0877, 0.0910, 0.1070, 0.0942, 0.0963, 0.1174, 0.0999, 0.0959,\n",
      "         0.1057],\n",
      "        [0.1042, 0.0889, 0.0896, 0.1043, 0.0957, 0.0974, 0.1130, 0.1037, 0.1004,\n",
      "         0.1029],\n",
      "        [0.1039, 0.0891, 0.0904, 0.1057, 0.0945, 0.0968, 0.1153, 0.1017, 0.0960,\n",
      "         0.1067],\n",
      "        [0.1048, 0.0885, 0.0891, 0.1055, 0.0952, 0.0967, 0.1166, 0.1012, 0.0969,\n",
      "         0.1054],\n",
      "        [0.1058, 0.0882, 0.0902, 0.1030, 0.0980, 0.0996, 0.1120, 0.1022, 0.0993,\n",
      "         0.1015],\n",
      "        [0.1044, 0.0904, 0.0905, 0.1035, 0.0973, 0.0991, 0.1130, 0.1016, 0.0996,\n",
      "         0.1006],\n",
      "        [0.1039, 0.0887, 0.0898, 0.1056, 0.0943, 0.0985, 0.1176, 0.1005, 0.0957,\n",
      "         0.1054],\n",
      "        [0.1032, 0.0887, 0.0902, 0.1017, 0.0974, 0.0980, 0.1163, 0.1025, 0.0961,\n",
      "         0.1060],\n",
      "        [0.1042, 0.0889, 0.0907, 0.1054, 0.0960, 0.0989, 0.1135, 0.1019, 0.0988,\n",
      "         0.1017],\n",
      "        [0.1027, 0.0887, 0.0887, 0.1057, 0.0965, 0.0970, 0.1148, 0.1021, 0.0975,\n",
      "         0.1063],\n",
      "        [0.1061, 0.0905, 0.0916, 0.1041, 0.0970, 0.0969, 0.1117, 0.1016, 0.0988,\n",
      "         0.1019],\n",
      "        [0.1047, 0.0869, 0.0894, 0.1067, 0.0949, 0.0995, 0.1167, 0.1005, 0.0947,\n",
      "         0.1061],\n",
      "        [0.1060, 0.0892, 0.0905, 0.1010, 0.0986, 0.0976, 0.1123, 0.1021, 0.0991,\n",
      "         0.1035],\n",
      "        [0.1048, 0.0878, 0.0912, 0.1038, 0.0985, 0.0996, 0.1133, 0.1012, 0.0981,\n",
      "         0.1017],\n",
      "        [0.1040, 0.0901, 0.0910, 0.1055, 0.0962, 0.0961, 0.1153, 0.0992, 0.0975,\n",
      "         0.1051],\n",
      "        [0.1044, 0.0891, 0.0907, 0.1018, 0.0953, 0.0974, 0.1156, 0.1028, 0.0975,\n",
      "         0.1055],\n",
      "        [0.1048, 0.0885, 0.0891, 0.1045, 0.0965, 0.0982, 0.1141, 0.1023, 0.0965,\n",
      "         0.1054],\n",
      "        [0.1059, 0.0883, 0.0913, 0.1018, 0.0995, 0.0965, 0.1145, 0.1009, 0.1004,\n",
      "         0.1009],\n",
      "        [0.1044, 0.0881, 0.0899, 0.1052, 0.0947, 0.0986, 0.1128, 0.1029, 0.0962,\n",
      "         0.1070],\n",
      "        [0.1049, 0.0908, 0.0894, 0.1047, 0.0967, 0.0995, 0.1121, 0.1028, 0.0973,\n",
      "         0.1018],\n",
      "        [0.1032, 0.0904, 0.0896, 0.1032, 0.0958, 0.0969, 0.1138, 0.1030, 0.0970,\n",
      "         0.1069],\n",
      "        [0.1021, 0.0897, 0.0915, 0.1021, 0.0992, 0.0978, 0.1123, 0.1018, 0.0985,\n",
      "         0.1049],\n",
      "        [0.1056, 0.0865, 0.0916, 0.1014, 0.0997, 0.0979, 0.1142, 0.1007, 0.0994,\n",
      "         0.1032],\n",
      "        [0.1047, 0.0888, 0.0902, 0.1040, 0.0961, 0.0968, 0.1142, 0.1018, 0.0980,\n",
      "         0.1053],\n",
      "        [0.1045, 0.0895, 0.0898, 0.1031, 0.0965, 0.0977, 0.1127, 0.1026, 0.0975,\n",
      "         0.1061],\n",
      "        [0.1046, 0.0896, 0.0906, 0.1025, 0.0982, 0.0973, 0.1139, 0.1009, 0.0986,\n",
      "         0.1037],\n",
      "        [0.1051, 0.0915, 0.0901, 0.1032, 0.0958, 0.0957, 0.1169, 0.1001, 0.0972,\n",
      "         0.1044],\n",
      "        [0.1039, 0.0891, 0.0903, 0.1010, 0.0966, 0.0972, 0.1162, 0.1029, 0.0965,\n",
      "         0.1064],\n",
      "        [0.1036, 0.0912, 0.0906, 0.1033, 0.0985, 0.0935, 0.1133, 0.1007, 0.0993,\n",
      "         0.1060],\n",
      "        [0.1047, 0.0882, 0.0898, 0.1053, 0.0958, 0.0971, 0.1169, 0.1001, 0.0962,\n",
      "         0.1060],\n",
      "        [0.1044, 0.0859, 0.0912, 0.1017, 0.0997, 0.0975, 0.1143, 0.1017, 0.0998,\n",
      "         0.1037],\n",
      "        [0.1053, 0.0892, 0.0876, 0.1050, 0.0964, 0.0987, 0.1178, 0.1012, 0.0934,\n",
      "         0.1054],\n",
      "        [0.1061, 0.0877, 0.0906, 0.1071, 0.0937, 0.0995, 0.1164, 0.0995, 0.0944,\n",
      "         0.1050],\n",
      "        [0.1049, 0.0891, 0.0892, 0.1017, 0.0965, 0.0982, 0.1143, 0.1030, 0.0974,\n",
      "         0.1058],\n",
      "        [0.1037, 0.0878, 0.0899, 0.1029, 0.0983, 0.0989, 0.1141, 0.1028, 0.0989,\n",
      "         0.1026],\n",
      "        [0.1054, 0.0888, 0.0878, 0.1054, 0.0949, 0.1003, 0.1166, 0.1012, 0.0928,\n",
      "         0.1069],\n",
      "        [0.1052, 0.0868, 0.0917, 0.1031, 0.0986, 0.0967, 0.1145, 0.1012, 0.0998,\n",
      "         0.1023],\n",
      "        [0.1059, 0.0881, 0.0909, 0.1016, 0.0977, 0.0978, 0.1127, 0.1029, 0.0989,\n",
      "         0.1035],\n",
      "        [0.1048, 0.0887, 0.0895, 0.1070, 0.0937, 0.0975, 0.1167, 0.0997, 0.0973,\n",
      "         0.1049],\n",
      "        [0.1048, 0.0877, 0.0911, 0.1014, 0.0994, 0.0979, 0.1139, 0.1011, 0.1006,\n",
      "         0.1022],\n",
      "        [0.1034, 0.0869, 0.0897, 0.1070, 0.0955, 0.0961, 0.1153, 0.1023, 0.0977,\n",
      "         0.1060],\n",
      "        [0.1059, 0.0886, 0.0898, 0.1014, 0.0980, 0.0988, 0.1140, 0.1020, 0.0963,\n",
      "         0.1051],\n",
      "        [0.1033, 0.0898, 0.0907, 0.1024, 0.0981, 0.1013, 0.1117, 0.1012, 0.0975,\n",
      "         0.1040],\n",
      "        [0.1056, 0.0868, 0.0911, 0.1045, 0.0966, 0.0976, 0.1160, 0.0997, 0.1014,\n",
      "         0.1008],\n",
      "        [0.1053, 0.0901, 0.0904, 0.1037, 0.0957, 0.0967, 0.1155, 0.1002, 0.0978,\n",
      "         0.1048],\n",
      "        [0.1051, 0.0877, 0.0905, 0.1037, 0.0995, 0.0987, 0.1149, 0.0996, 0.0973,\n",
      "         0.1031],\n",
      "        [0.1074, 0.0876, 0.0903, 0.1056, 0.0953, 0.0977, 0.1189, 0.0982, 0.0945,\n",
      "         0.1045],\n",
      "        [0.1030, 0.0880, 0.0909, 0.1039, 0.0983, 0.0964, 0.1150, 0.1014, 0.0991,\n",
      "         0.1040],\n",
      "        [0.1036, 0.0885, 0.0899, 0.1033, 0.0981, 0.0962, 0.1155, 0.1010, 0.0996,\n",
      "         0.1043],\n",
      "        [0.1039, 0.0902, 0.0900, 0.1053, 0.0958, 0.0975, 0.1139, 0.1008, 0.0964,\n",
      "         0.1062],\n",
      "        [0.1049, 0.0893, 0.0892, 0.1063, 0.0932, 0.0965, 0.1193, 0.0981, 0.0963,\n",
      "         0.1070],\n",
      "        [0.1049, 0.0896, 0.0905, 0.1035, 0.0965, 0.0969, 0.1150, 0.1000, 0.0979,\n",
      "         0.1051]], grad_fn=<ExpBackward>)\n"
     ]
    }
   ],
   "source": [
    "model = Classifier()\n",
    "\n",
    "images, labels = next(iter(testloader))\n",
    "# Get the class probabilities\n",
    "ps = torch.exp(model(images))\n",
    "# Make sure the shape is appropriate, we should get 10 class probabilities for 64 examples\n",
    "print(ps.shape)\n",
    "print(ps)"
   ]
  },
  {
   "cell_type": "markdown",
   "metadata": {},
   "source": [
    "With the probabilities, we can get the most likely class using the `ps.topk` method. This returns the $k$ highest values. Since we just want the most likely class, we can use `ps.topk(1)`. This returns a tuple of the top-$k$ values and the top-$k$ indices. If the highest value is the fifth element, we'll get back 4 as the index."
   ]
  },
  {
   "cell_type": "code",
   "execution_count": 84,
   "metadata": {},
   "outputs": [
    {
     "name": "stdout",
     "output_type": "stream",
     "text": [
      "tensor([[6],\n",
      "        [6],\n",
      "        [6],\n",
      "        [6],\n",
      "        [6],\n",
      "        [6],\n",
      "        [6],\n",
      "        [6],\n",
      "        [6],\n",
      "        [6]])\n",
      "tensor([[0.1162],\n",
      "        [0.1129],\n",
      "        [0.1135],\n",
      "        [0.1150],\n",
      "        [0.1151],\n",
      "        [0.1164],\n",
      "        [0.1149],\n",
      "        [0.1122],\n",
      "        [0.1148],\n",
      "        [0.1134]], grad_fn=<SliceBackward>)\n"
     ]
    }
   ],
   "source": [
    "top_p, top_class = ps.topk(1, dim=1)\n",
    "# Look at the most likely classes for the first 10 examples\n",
    "\n",
    "print(top_class[:10,:10])\n",
    "print(top_p[:10,:])\n"
   ]
  },
  {
   "cell_type": "markdown",
   "metadata": {},
   "source": [
    "Now we can check if the predicted classes match the labels. This is simple to do by equating `top_class` and `labels`, but we have to be careful of the shapes. Here `top_class` is a 2D tensor with shape `(64, 1)` while `labels` is 1D with shape `(64)`. To get the equality to work out the way we want, `top_class` and `labels` must have the same shape.\n",
    "\n",
    "If we do\n",
    "\n",
    "```python\n",
    "equals = top_class == labels\n",
    "```\n",
    "\n",
    "`equals` will have shape `(64, 64)`, try it yourself. What it's doing is comparing the one element in each row of `top_class` with each element in `labels` which returns 64 True/False boolean values for each row."
   ]
  },
  {
   "cell_type": "code",
   "execution_count": 85,
   "metadata": {},
   "outputs": [
    {
     "name": "stdout",
     "output_type": "stream",
     "text": [
      "torch.Size([64, 1])\n",
      "<built-in method type of Tensor object at 0x0000014CE8B48090>\n"
     ]
    }
   ],
   "source": [
    "equals = top_class == labels.view(*top_class.shape)      \n",
    "print(equals.shape)\n",
    "print(equals.type)"
   ]
  },
  {
   "cell_type": "markdown",
   "metadata": {},
   "source": [
    "Now we need to calculate the percentage of correct predictions. `equals` has binary values, either 0 or 1. This means that if we just sum up all the values and divide by the number of values, we get the percentage of correct predictions. This is the same operation as taking the mean, so we can get the accuracy with a call to `torch.mean`. If only it was that simple. If you try `torch.mean(equals)`, you'll get an error\n",
    "\n",
    "```\n",
    "RuntimeError: mean is not implemented for type torch.ByteTensor\n",
    "```\n",
    "\n",
    "This happens because `equals` has type `torch.ByteTensor` but `torch.mean` isn't implement for tensors with that type. So we'll need to convert `equals` to a float tensor. Note that when we take `torch.mean` it returns a scalar tensor, to get the actual value as a float we'll need to do `accuracy.item()`."
   ]
  },
  {
   "cell_type": "code",
   "execution_count": 86,
   "metadata": {},
   "outputs": [
    {
     "name": "stdout",
     "output_type": "stream",
     "text": [
      "Accuracy: 12.5%\n"
     ]
    }
   ],
   "source": [
    "accuracy = torch.mean(equals.type(torch.FloatTensor))                                                                                                                                                                                                                                                                                                                                                                           \n",
    "print(f'Accuracy: {accuracy*100}%')"
   ]
  },
  {
   "cell_type": "markdown",
   "metadata": {},
   "source": [
    "The network is untrained so it's making random guesses and we should see an accuracy around 10%. Now let's train our network and include our validation pass so we can measure how well the network is performing on the test set. Since we're not updating our parameters in the validation pass, we can speed up our code by turning off gradients using `torch.no_grad()`:\n",
    "\n",
    "```python\n",
    "# turn off gradients\n",
    "with torch.no_grad():\n",
    "    # validation pass here\n",
    "    for images, labels in testloader:\n",
    "        ...\n",
    "```\n",
    "\n",
    ">**Exercise:** Implement the validation loop below and print out the total accuracy after the loop. You can largely copy and paste the code from above, but I suggest typing it in because writing it out yourself is essential for building the skill. In general you'll always learn more by typing it rather than copy-pasting. You should be able to get an accuracy above 80%."
   ]
  },
  {
   "cell_type": "code",
   "execution_count": 88,
   "metadata": {},
   "outputs": [
    {
     "name": "stdout",
     "output_type": "stream",
     "text": [
      "Epoch:0\n",
      "Training loss:0.519..\n",
      "Test loss:0.472..\n",
      "Running Accuracy:129.625..\n",
      "Accuracy for each epoch:82.564%..\n",
      "Epoch:1\n",
      "Training loss:0.390..\n",
      "Test loss:0.411..\n",
      "Running Accuracy:134.266..\n",
      "Accuracy for each epoch:85.520%..\n",
      "Epoch:2\n",
      "Training loss:0.358..\n",
      "Test loss:0.384..\n",
      "Running Accuracy:134.984..\n",
      "Accuracy for each epoch:85.977%..\n",
      "Epoch:3\n",
      "Training loss:0.336..\n",
      "Test loss:0.372..\n",
      "Running Accuracy:135.641..\n",
      "Accuracy for each epoch:86.395%..\n",
      "Epoch:4\n",
      "Training loss:0.318..\n",
      "Test loss:0.376..\n",
      "Running Accuracy:135.984..\n",
      "Accuracy for each epoch:86.614%..\n",
      "Epoch:5\n",
      "Training loss:0.305..\n",
      "Test loss:0.364..\n",
      "Running Accuracy:137.078..\n",
      "Accuracy for each epoch:87.311%..\n",
      "Epoch:6\n",
      "Training loss:0.293..\n",
      "Test loss:0.373..\n",
      "Running Accuracy:136.938..\n",
      "Accuracy for each epoch:87.221%..\n",
      "Epoch:7\n",
      "Training loss:0.284..\n",
      "Test loss:0.371..\n",
      "Running Accuracy:136.750..\n",
      "Accuracy for each epoch:87.102%..\n",
      "Epoch:8\n",
      "Training loss:0.275..\n",
      "Test loss:0.352..\n",
      "Running Accuracy:137.422..\n",
      "Accuracy for each epoch:87.530%..\n",
      "Epoch:9\n",
      "Training loss:0.266..\n",
      "Test loss:0.367..\n",
      "Running Accuracy:137.312..\n",
      "Accuracy for each epoch:87.460%..\n",
      "Epoch:10\n",
      "Training loss:0.260..\n",
      "Test loss:0.364..\n",
      "Running Accuracy:138.438..\n",
      "Accuracy for each epoch:88.177%..\n",
      "Epoch:11\n",
      "Training loss:0.258..\n",
      "Test loss:0.400..\n",
      "Running Accuracy:135.578..\n",
      "Accuracy for each epoch:86.355%..\n",
      "Epoch:12\n",
      "Training loss:0.248..\n",
      "Test loss:0.361..\n",
      "Running Accuracy:137.594..\n",
      "Accuracy for each epoch:87.639%..\n",
      "Epoch:13\n",
      "Training loss:0.243..\n",
      "Test loss:0.366..\n",
      "Running Accuracy:137.203..\n",
      "Accuracy for each epoch:87.391%..\n",
      "Epoch:14\n",
      "Training loss:0.239..\n",
      "Test loss:0.382..\n",
      "Running Accuracy:137.250..\n",
      "Accuracy for each epoch:87.420%..\n",
      "Epoch:15\n",
      "Training loss:0.234..\n",
      "Test loss:0.367..\n",
      "Running Accuracy:138.375..\n",
      "Accuracy for each epoch:88.137%..\n",
      "Epoch:16\n",
      "Training loss:0.229..\n",
      "Test loss:0.373..\n",
      "Running Accuracy:137.828..\n",
      "Accuracy for each epoch:87.789%..\n",
      "Epoch:17\n",
      "Training loss:0.225..\n",
      "Test loss:0.375..\n",
      "Running Accuracy:137.844..\n",
      "Accuracy for each epoch:87.799%..\n",
      "Epoch:18\n",
      "Training loss:0.219..\n",
      "Test loss:0.365..\n",
      "Running Accuracy:138.578..\n",
      "Accuracy for each epoch:88.266%..\n",
      "Epoch:19\n",
      "Training loss:0.212..\n",
      "Test loss:0.379..\n",
      "Running Accuracy:138.344..\n",
      "Accuracy for each epoch:88.117%..\n",
      "Epoch:20\n",
      "Training loss:0.210..\n",
      "Test loss:0.398..\n",
      "Running Accuracy:137.453..\n",
      "Accuracy for each epoch:87.550%..\n",
      "Epoch:21\n",
      "Training loss:0.205..\n",
      "Test loss:0.384..\n",
      "Running Accuracy:138.000..\n",
      "Accuracy for each epoch:87.898%..\n",
      "Epoch:22\n",
      "Training loss:0.201..\n",
      "Test loss:0.405..\n",
      "Running Accuracy:137.922..\n",
      "Accuracy for each epoch:87.848%..\n",
      "Epoch:23\n",
      "Training loss:0.200..\n",
      "Test loss:0.399..\n",
      "Running Accuracy:138.625..\n",
      "Accuracy for each epoch:88.296%..\n",
      "Epoch:24\n",
      "Training loss:0.199..\n",
      "Test loss:0.377..\n",
      "Running Accuracy:138.375..\n",
      "Accuracy for each epoch:88.137%..\n",
      "Epoch:25\n",
      "Training loss:0.198..\n",
      "Test loss:0.391..\n",
      "Running Accuracy:138.328..\n",
      "Accuracy for each epoch:88.107%..\n",
      "Epoch:26\n",
      "Training loss:0.193..\n",
      "Test loss:0.406..\n",
      "Running Accuracy:138.234..\n",
      "Accuracy for each epoch:88.047%..\n",
      "Epoch:27\n",
      "Training loss:0.187..\n",
      "Test loss:0.399..\n",
      "Running Accuracy:139.047..\n",
      "Accuracy for each epoch:88.565%..\n",
      "Epoch:28\n",
      "Training loss:0.185..\n",
      "Test loss:0.423..\n",
      "Running Accuracy:137.250..\n",
      "Accuracy for each epoch:87.420%..\n",
      "Epoch:29\n",
      "Training loss:0.183..\n",
      "Test loss:0.416..\n",
      "Running Accuracy:138.312..\n",
      "Accuracy for each epoch:88.097%..\n"
     ]
    }
   ],
   "source": [
    "model = Classifier()\n",
    "criterion = nn.NLLLoss()\n",
    "optimizer = optim.Adam(model.parameters(), lr=0.003)\n",
    "\n",
    "epochs = 30\n",
    "steps = 0\n",
    "\n",
    "train_losses, test_losses, accuracy = [], [],[] #initiate the place holder for train_losses and test_losses for all 30 epochs => each list will have 30 items\n",
    "for e in range(epochs): #iter through each epoch\n",
    "    running_loss = 0\n",
    "    for images, labels in trainloader: #iter through each batch of trainloader, 64 images were test\n",
    "        \n",
    "        optimizer.zero_grad() #clear the gradients before the start of each batch as gradients accumulate\n",
    "        \n",
    "        log_ps = model(images) #feedforward 64 images through the model\n",
    "        loss = criterion(log_ps, labels) #Caculate the loss for this batch of images\n",
    "        loss.backward() #backpropagate the loss through the network\n",
    "        optimizer.step() #use gradient descent to update the weight\n",
    "         \n",
    "        running_loss += loss.item()  #caculate the total loss of the batch \n",
    "        \n",
    "    else: #after the model was trained through entire train set in 1 epoch, we applied that model to the test set\n",
    "        ## TODO: Implement the validation pass and print out the validation accuracy\n",
    "        running_test_loss = 0 #reset test_loss and accuracy score for the next epoch\n",
    "        running_Accuracy = 0 \n",
    "        for images, labels in testloader: #iterate through each batch of the testset\n",
    "            with torch.no_grad():\n",
    "                output = model.forward(images) #iterate images in the batch through the trained model \n",
    "                test_loss = criterion(output, labels) #Calculate test loss for the batch\n",
    "                ps = torch.exp(output) #get class probability for output\n",
    "                top_p,top_class = ps.topk(1,dim=1)\n",
    "                equals = top_class == labels.view(*top_class.shape) #binary tensor of (0,1) for 64 images in the batch\n",
    "                #Calculate accuracy score for the batch: sum(equals)/(#imagesinbatch)\n",
    "                Accuracy = torch.mean(equals.type(torch.FloatTensor)) \n",
    "                \n",
    "            running_test_loss += test_loss.item() #total test loss of all batches in 1 epoch\n",
    "            running_Accuracy += Accuracy.item() #total accuracy of all batches in 1 epoch\n",
    "        print(\"Epoch:{}\".format(e))\n",
    "        print(\"Training loss:{:.3f}..\".format(running_loss/len(trainloader)))\n",
    "        print(\"Test loss:{:.3f}..\".format(running_test_loss/len(testloader)))\n",
    "        print(\"Running Accuracy:{:.3f}..\".format(running_Accuracy))\n",
    "        print(\"Accuracy for each epoch:{:.3f}%..\".format(running_Accuracy/len(testloader)*100))\n",
    "        \n",
    "        #append the Training_loss and test_loses of every epoch for visualization\n",
    "        train_losses.append(running_loss/len(trainloader))\n",
    "        test_losses.append(running_test_loss/len(testloader))\n",
    "        accuracy.append(running_Accuracy/len(testloader))"
   ]
  },
  {
   "cell_type": "code",
   "execution_count": 89,
   "metadata": {},
   "outputs": [],
   "source": [
    "#let's visualize the train/test loss \n",
    "%matplotlib inline\n",
    "%config InlineBackend.figure_format = 'retina'\n",
    "\n",
    "import matplotlib.pyplot as plt "
   ]
  },
  {
   "cell_type": "code",
   "execution_count": 93,
   "metadata": {},
   "outputs": [
    {
     "data": {
      "text/plain": [
       "<matplotlib.legend.Legend at 0x14ce54f2128>"
      ]
     },
     "execution_count": 93,
     "metadata": {},
     "output_type": "execute_result"
    },
    {
     "data": {
      "image/png": "[encoded data removed]",
      "text/plain": [
       "<Figure size 432x288 with 1 Axes>"
      ]
     },
     "metadata": {
      "image/png": {
       "height": 250,
       "width": 380
      },
      "needs_background": "light"
     },
     "output_type": "display_data"
    }
   ],
   "source": [
    "#visualize train losses and test losses for each epoch\n",
    "plt.plot(train_losses, label = 'Training loss',)\n",
    "plt.plot(test_losses, label = 'Validation loss')\n",
    "plt.legend(frameon = False)"
   ]
  },
  {
   "cell_type": "markdown",
   "metadata": {},
   "source": [
    "## Overfitting\n",
    "\n",
    "If we look at the training and validation losses as we train the network, we can see a phenomenon known as overfitting.\n",
    "\n",
    "<img src='assets/overfitting.png' width=450px>\n",
    "\n",
    "The network learns the training set better and better, resulting in lower training losses. However, it starts having problems generalizing to data outside the training set leading to the validation loss increasing. The ultimate goal of any deep learning model is to make predictions on new data, so we should strive to get the lowest validation loss possible. One option is to use the version of the model with the lowest validation loss, here the one around 8-10 training epochs. This strategy is called *early-stopping*. In practice, you'd save the model frequently as you're training then later choose the model with the lowest validation loss.\n",
    "\n",
    "The most common method to reduce overfitting (outside of early-stopping) is *dropout*, where we randomly drop input units. This forces the network to share information between weights, increasing it's ability to generalize to new data. Adding dropout in PyTorch is straightforward using the [`nn.Dropout`](https://pytorch.org/docs/stable/nn.html#torch.nn.Dropout) module.\n",
    "\n",
    "```python\n",
    "class Classifier(nn.Module):\n",
    "    def __init__(self):\n",
    "        super().__init__()\n",
    "        self.fc1 = nn.Linear(784, 256)\n",
    "        self.fc2 = nn.Linear(256, 128)\n",
    "        self.fc3 = nn.Linear(128, 64)\n",
    "        self.fc4 = nn.Linear(64, 10)\n",
    "        \n",
    "        # Dropout module with 0.2 drop probability\n",
    "        self.dropout = nn.Dropout(p=0.2)\n",
    "        \n",
    "    def forward(self, x):\n",
    "        # make sure input tensor is flattened\n",
    "        x = x.view(x.shape[0], -1)\n",
    "        \n",
    "        # Now with dropout\n",
    "        x = self.dropout(F.relu(self.fc1(x)))\n",
    "        x = self.dropout(F.relu(self.fc2(x)))\n",
    "        x = self.dropout(F.relu(self.fc3(x)))\n",
    "        \n",
    "        # output so no dropout here\n",
    "        x = F.log_softmax(self.fc4(x), dim=1)\n",
    "        \n",
    "        return x\n",
    "```\n",
    "\n",
    "During training we want to use dropout to prevent overfitting, but during inference we want to use the entire network. So, we need to turn off dropout during validation, testing, and whenever we're using the network to make predictions. To do this, you use `model.eval()`. This sets the model to evaluation mode where the dropout probability is 0. You can turn dropout back on by setting the model to train mode with `model.train()`. In general, the pattern for the validation loop will look like this, where you turn off gradients, set the model to evaluation mode, calculate the validation loss and metric, then set the model back to train mode.\n",
    "\n",
    "```python\n",
    "# turn off gradients\n",
    "with torch.no_grad():\n",
    "    \n",
    "    # set model to evaluation mode\n",
    "    model.eval()\n",
    "    \n",
    "    # validation pass here\n",
    "    for images, labels in testloader:\n",
    "        ...\n",
    "\n",
    "# set model back to train mode\n",
    "model.train()\n",
    "```"
   ]
  },
  {
   "cell_type": "markdown",
   "metadata": {},
   "source": [
    "> **Exercise:** Add dropout to your model and train it on Fashion-MNIST again. See if you can get a lower validation loss or higher accuracy."
   ]
  },
  {
   "cell_type": "code",
   "execution_count": 114,
   "metadata": {},
   "outputs": [],
   "source": [
    "## TODO: Define your model with dropout added\n",
    "class Classifier(nn.Module):\n",
    "    def __init__(self):\n",
    "        super().__init__()\n",
    "        self.fc1 = nn.Linear(n_input, n_hidden[0])\n",
    "        self.fc2 = nn.Linear(n_hidden[0],n_hidden[1])\n",
    "        self.fc3 = nn.Linear(n_hidden[1],n_hidden[2])\n",
    "        self.fc4 = nn.Linear(n_hidden[2],n_output)\n",
    "        self.dropout = nn.Dropout(p=0.2)\n",
    "    def forward(self,x):\n",
    "        x = x.view(x.shape[0],-1)\n",
    "        x = self.dropout(F.relu(self.fc1(x)))\n",
    "        x = self.dropout(F.relu(self.fc2(x)))\n",
    "        x = self.dropout(F.relu(self.fc3(x)))\n",
    "        x = F.log_softmax(self.fc4(x), dim=1)\n",
    "        return x"
   ]
  },
  {
   "cell_type": "code",
   "execution_count": 108,
   "metadata": {},
   "outputs": [],
   "source": [
    "n_input = 784\n",
    "n_hidden = [256,128,64]\n",
    "n_output = 10"
   ]
  },
  {
   "cell_type": "code",
   "execution_count": 129,
   "metadata": {},
   "outputs": [
    {
     "name": "stdout",
     "output_type": "stream",
     "text": [
      "83.11106687898089\n",
      "84.06648089171973\n",
      "85.20103503184714\n",
      "85.49960191082803\n",
      "85.23089171974523\n",
      "85.35031847133759\n",
      "85.72850318471338\n",
      "85.84792993630573\n",
      "85.67874203821655\n",
      "86.27587579617835\n",
      "86.76353503184714\n",
      "86.58439490445859\n",
      "86.33558917197452\n",
      "85.97730891719745\n",
      "86.89291401273886\n",
      "86.98248407643312\n",
      "86.70382165605095\n",
      "86.9625796178344\n",
      "86.5047770700637\n",
      "86.42515923566879\n",
      "87.03224522292994\n",
      "86.79339171974523\n",
      "86.81329617834395\n",
      "87.47014331210191\n",
      "87.609474522293\n",
      "87.2312898089172\n",
      "87.13176751592357\n",
      "87.281050955414\n",
      "87.90804140127389\n",
      "87.92794585987261\n"
     ]
    }
   ],
   "source": [
    "## TODO: Train your model with dropout, and monitor the training progress with the validation loss and accuracy\n",
    "model = Classifier()\n",
    "criterion = nn.NLLLoss()\n",
    "optimizer = optim.Adam(model.parameters(),lr = 0.003)\n",
    "\n",
    "#create 3 list place holder for losses and accuracy for all epochs\n",
    "training_losses, test_losses, Accuracy_epoch = [], [], []\n",
    "epochs = 30\n",
    "\n",
    "for e in range(epochs): #loop through epochs\n",
    "    running_train_losses= 0 #starting value for train losses\n",
    "    for images, labels in trainloader:\n",
    "        optimizer.zero_grad() #clear gradient before looping through each batch\n",
    "        log_ps = model(images)\n",
    "        #calculate losses for each batch \n",
    "        loss = criterion(log_ps, labels)\n",
    "        #backprop loss\n",
    "        loss.backward()\n",
    "        #optimizer step to update weight\n",
    "        optimizer.step()\n",
    "        #calculate train losses for all batches in the epoch \n",
    "        running_train_losses += loss.item()\n",
    "    else: #after all the batches in trainloader has been trained for 1 epoch, use model in validation test\n",
    "        #turn off gradients to speed up processes\n",
    "        running_test_loss = 0\n",
    "        running_accuracy = 0 \n",
    "        with torch.no_grad():\n",
    "            model.eval() #set model to evaluation mode to stop dropout\n",
    "            for images, labels in testloader:\n",
    "                output = model(images)\n",
    "                #calculate accuracy for each batch\n",
    "                ps = torch.exp(output)\n",
    "                top_p, top_class = ps.topk(1,dim=1)\n",
    "                equals = top_class == labels.view(*top_class.shape)\n",
    "                accuracy = torch.mean(equals.type(torch.FloatTensor)) \n",
    "                running_accuracy += accuracy.item()\n",
    "                #calculate running losses, accuracy \n",
    "                loss = criterion(output,labels)\n",
    "                running_test_loss += loss.item()\n",
    "            \n",
    "            training_losses.append(running_train_losses/len(trainloader))\n",
    "            test_losses.append(running_test_loss/len(testloader))\n",
    "            Accuracy_epoch.append(running_accuracy/len(testloader))\n",
    "            print(running_accuracy/len(testloader)*100)\n",
    "            # set model back to train mode before going to another epoch\n",
    "            model.train()\n",
    "          "
   ]
  },
  {
   "cell_type": "code",
   "execution_count": 130,
   "metadata": {},
   "outputs": [
    {
     "name": "stdout",
     "output_type": "stream",
     "text": [
      "Traning losses\n",
      "[0.6067637465020487, 0.48462120171930234, 0.4543416810823656, 0.4351036872055485, 0.4225041824204327, 0.4100850102966274, 0.4036573310301248, 0.40157315209666805, 0.39061468010391, 0.3882356609013289, 0.3826613722484249, 0.3810389555339366, 0.374532446797405, 0.3770594314487377, 0.37372902361378235, 0.36925175289577766, 0.3651161315694038, 0.3624212254942861, 0.35776114935623304, 0.3493023657881375, 0.3662761613281805, 0.35472396800099915, 0.35815797144892625, 0.3454465404756542, 0.3492889174981031, 0.34502669616834697, 0.3432220714861777, 0.35257587627148324, 0.3399686809462398, 0.33607699890444276]\n",
      "Test losses\n",
      "[0.47617173489112, 0.44189628854299046, 0.4108226786658263, 0.4014347796417346, 0.4026476659212902, 0.39973956598028254, 0.4056538063439594, 0.40361612598607494, 0.3958535291207064, 0.4177908438975644, 0.381992520800062, 0.3803102136797206, 0.3949805274131192, 0.3877497044908013, 0.38345236255294957, 0.37264956486452916, 0.4040786581244438, 0.3940876834331804, 0.3921753845776722, 0.3817371960468353, 0.37772994151540623, 0.3791218539521952, 0.3834875572449083, 0.36846526683705627, 0.36708010619233367, 0.39640314018080947, 0.3979185806812754, 0.38705479472306126, 0.37125195752663215, 0.3761711451847842]\n",
      "Accuracy\n",
      "[0.8311106687898089, 0.8406648089171974, 0.8520103503184714, 0.8549960191082803, 0.8523089171974523, 0.8535031847133758, 0.8572850318471338, 0.8584792993630573, 0.8567874203821656, 0.8627587579617835, 0.8676353503184714, 0.865843949044586, 0.8633558917197452, 0.8597730891719745, 0.8689291401273885, 0.8698248407643312, 0.8670382165605095, 0.8696257961783439, 0.865047770700637, 0.8642515923566879, 0.8703224522292994, 0.8679339171974523, 0.8681329617834395, 0.8747014331210191, 0.87609474522293, 0.872312898089172, 0.8713176751592356, 0.8728105095541401, 0.8790804140127388, 0.8792794585987261]\n"
     ]
    }
   ],
   "source": [
    "  \n",
    "print('Traning losses')\n",
    "print(training_losses)\n",
    "print('Test losses')\n",
    "print(test_losses)\n",
    "print('Accuracy')\n",
    "print(Accuracy_epoch)"
   ]
  },
  {
   "cell_type": "markdown",
   "metadata": {},
   "source": [
    "## Inference\n",
    "\n",
    "Now that the model is trained, we can use it for inference. We've done this before, but now we need to remember to set the model in inference mode with `model.eval()`. You'll also want to turn off autograd with the `torch.no_grad()` context."
   ]
  },
  {
   "cell_type": "code",
   "execution_count": 131,
   "metadata": {},
   "outputs": [
    {
     "data": {
      "text/plain": [
       "<matplotlib.legend.Legend at 0x14ce8ca0d30>"
      ]
     },
     "execution_count": 131,
     "metadata": {},
     "output_type": "execute_result"
    },
    {
     "data": {
      "image/png": "[encoded data removed]",
      "text/plain": [
       "<Figure size 432x288 with 1 Axes>"
      ]
     },
     "metadata": {
      "image/png": {
       "height": 250,
       "width": 380
      },
      "needs_background": "light"
     },
     "output_type": "display_data"
    }
   ],
   "source": [
    "plt.plot(training_losses, label = 'Train Loss')\n",
    "plt.plot(test_losses, label = 'Test Loss')\n",
    "plt.legend()"
   ]
  },
  {
   "cell_type": "code",
   "execution_count": 132,
   "metadata": {},
   "outputs": [
    {
     "data": {
      "text/plain": [
       "[<matplotlib.lines.Line2D at 0x14ce6401898>]"
      ]
     },
     "execution_count": 132,
     "metadata": {},
     "output_type": "execute_result"
    },
    {
     "data": {
      "image/png": "[encoded data removed]",
      "text/plain": [
       "<Figure size 432x288 with 1 Axes>"
      ]
     },
     "metadata": {
      "image/png": {
       "height": 250,
       "width": 380
      },
      "needs_background": "light"
     },
     "output_type": "display_data"
    }
   ],
   "source": [
    "plt.plot(Accuracy_epoch,label = 'Accuracy')"
   ]
  },
  {
   "cell_type": "code",
   "execution_count": 145,
   "metadata": {},
   "outputs": [
    {
     "name": "stdout",
     "output_type": "stream",
     "text": [
      "odict_keys(['fc1.weight', 'fc1.bias', 'fc2.weight', 'fc2.bias', 'fc3.weight', 'fc3.bias', 'fc4.weight', 'fc4.bias'])\n"
     ]
    }
   ],
   "source": [
    "#check model parameters after training\n",
    "print(model.state_dict().keys())"
   ]
  },
  {
   "cell_type": "code",
   "execution_count": 142,
   "metadata": {},
   "outputs": [
    {
     "data": {
      "image/png": "[encoded data removed]",
      "text/plain": [
       "<Figure size 432x648 with 2 Axes>"
      ]
     },
     "metadata": {
      "image/png": {
       "height": 206,
       "width": 423
      },
      "needs_background": "light"
     },
     "output_type": "display_data"
    }
   ],
   "source": [
    "# Import helper module (should be in the repo)\n",
    "import helper\n",
    "\n",
    "# Test out your network!\n",
    "\n",
    "model.eval()\n",
    "\n",
    "dataiter = iter(testloader)\n",
    "images, labels = dataiter.next()\n",
    "img = images[0]\n",
    "# Convert 2D image to 1D vector\n",
    "img = img.view(1, 784)\n",
    "\n",
    "# Calculate the class probabilities (softmax) for img\n",
    "with torch.no_grad():\n",
    "    output = model.forward(img)\n",
    "\n",
    "ps = torch.exp(output)\n",
    "\n",
    "# Plot the image and probabilities\n",
    "helper.view_classify(img.view(1, 28, 28), ps, version='Fashion')"
   ]
  },
  {
   "cell_type": "markdown",
   "metadata": {},
   "source": [
    "## Next Up!\n",
    "\n",
    "In the next part, I'll show you how to save your trained models. In general, you won't want to train a model everytime you need it. Instead, you'll train once, save it, then load the model when you want to train more or use if for inference."
   ]
  },
  {
   "cell_type": "code",
   "execution_count": null,
   "metadata": {},
   "outputs": [],
   "source": []
  }
 ],
 "metadata": {
  "kernelspec": {
   "display_name": "Python 3",
   "language": "python",
   "name": "python3"
  },
  "language_info": {
   "codemirror_mode": {
    "name": "ipython",
    "version": 3
   },
   "file_extension": ".py",
   "mimetype": "text/x-python",
   "name": "python",
   "nbconvert_exporter": "python",
   "pygments_lexer": "ipython3",
   "version": "3.7.3"
  }
 },
 "nbformat": 4,
 "nbformat_minor": 2
}
