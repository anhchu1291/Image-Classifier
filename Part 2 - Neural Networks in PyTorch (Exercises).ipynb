{
 "cells": [
  {
   "cell_type": "markdown",
   "metadata": {},
   "source": [
    "# Neural networks with PyTorch\n",
    "\n",
    "Deep learning networks tend to be massive with dozens or hundreds of layers, that's where the term \"deep\" comes from. You can build one of these deep networks using only weight matrices as we did in the previous notebook, but in general it's very cumbersome and difficult to implement. PyTorch has a nice module `nn` that provides a nice way to efficiently build large neural networks."
   ]
  },
  {
   "cell_type": "code",
   "execution_count": 133,
   "metadata": {},
   "outputs": [],
   "source": [
    "# Import necessary packages\n",
    "\n",
    "%matplotlib inline\n",
    "%config InlineBackend.figure_format = 'retina'\n",
    "\n",
    "import numpy as np\n",
    "import torch\n",
    "\n",
    "import helper\n",
    "\n",
    "import matplotlib.pyplot as plt"
   ]
  },
  {
   "cell_type": "markdown",
   "metadata": {},
   "source": [
    "\n",
    "Now we're going to build a larger network that can solve a (formerly) difficult problem, identifying text in an image. Here we'll use the MNIST dataset which consists of greyscale handwritten digits. Each image is 28x28 pixels, you can see a sample below\n",
    "\n",
    "<img src='assets/mnist.png'>\n",
    "\n",
    "Our goal is to build a neural network that can take one of these images and predict the digit in the image.\n",
    "\n",
    "First up, we need to get our dataset. This is provided through the `torchvision` package. The code below will download the MNIST dataset, then create training and test datasets for us. Don't worry too much about the details here, you'll learn more about this later."
   ]
  },
  {
   "cell_type": "code",
   "execution_count": 163,
   "metadata": {},
   "outputs": [
    {
     "name": "stdout",
     "output_type": "stream",
     "text": [
      "Dataset MNIST\n",
      "    Number of datapoints: 60000\n",
      "    Split: train\n",
      "    Root Location: /Users/hoanganhchu/.pytorch/MNIST_data/\n",
      "    Transforms (if any): Compose(\n",
      "                             ToTensor()\n",
      "                             Normalize(mean=(0.5,), std=(0.5,))\n",
      "                         )\n",
      "    Target Transforms (if any): None\n",
      "/Users/hoanganhchu/Documents/GitHub/DSND_Term1/lessons/DeepLearning/new-intro-to-pytorch\n"
     ]
    }
   ],
   "source": [
    "### Run this cell\n",
    "\n",
    "from torchvision import datasets, transforms\n",
    "\n",
    "# Define a transform to normalize the data\n",
    "transform = transforms.Compose([transforms.ToTensor(),\n",
    "                              transforms.Normalize((0.5,), (0.5,)),\n",
    "                              ])\n",
    "\n",
    "# Download and load the training data\n",
    "trainset = datasets.MNIST('~/.pytorch/MNIST_data/', download=True, train=True, transform=transform)\n",
    "trainloader = torch.utils.data.DataLoader(trainset, batch_size=64, shuffle=True)\n",
    "print(trainset)\n",
    "\n",
    "import os\n",
    "print(os.getcwd())"
   ]
  },
  {
   "cell_type": "markdown",
   "metadata": {},
   "source": [
    "We have the training data loaded into `trainloader` and we make that an iterator with `iter(trainloader)`. Later, we'll use this to loop through the dataset for training, like\n",
    "\n",
    "```python\n",
    "for image, label in trainloader:\n",
    "    ## do things with images and labels\n",
    "```\n",
    "\n",
    "You'll notice I created the `trainloader` with a batch size of 64, and `shuffle=True`. The batch size is the number of images we get in one iteration from the data loader and pass through our network, often called a *batch*. And `shuffle=True` tells it to shuffle the dataset every time we start going through the data loader again. But here I'm just grabbing the first batch so we can check out the data. We can see below that `images` is just a tensor with size `(64, 1, 28, 28)`. So, 64 images per batch, 1 color channel, and 28x28 images."
   ]
  },
  {
   "cell_type": "code",
   "execution_count": 135,
   "metadata": {},
   "outputs": [
    {
     "name": "stdout",
     "output_type": "stream",
     "text": [
      "<class 'torch.Tensor'>\n",
      "torch.Size([64, 1, 28, 28])\n",
      "torch.Size([64])\n"
     ]
    }
   ],
   "source": [
    "dataiter = iter(trainloader)\n",
    "images, labels = dataiter.next()\n",
    "print(type(images))\n",
    "print(images.shape)\n",
    "print(labels.shape)"
   ]
  },
  {
   "cell_type": "markdown",
   "metadata": {},
   "source": [
    "This is what one of the images looks like. "
   ]
  },
  {
   "cell_type": "code",
   "execution_count": 136,
   "metadata": {},
   "outputs": [
    {
     "data": {
      "image/png": "[encoded data removed]",
      "text/plain": [
       "<Figure size 432x288 with 1 Axes>"
      ]
     },
     "metadata": {
      "image/png": {
       "height": 250,
       "width": 253
      },
      "needs_background": "light"
     },
     "output_type": "display_data"
    }
   ],
   "source": [
    "plt.imshow(images[1].numpy().squeeze(), cmap='Greys_r');"
   ]
  },
  {
   "cell_type": "markdown",
   "metadata": {},
   "source": [
    "First, let's try to build a simple network for this dataset using weight matrices and matrix multiplications. Then, we'll see how to do it using PyTorch's `nn` module which provides a much more convenient and powerful method for defining network architectures.\n",
    "\n",
    "The networks you've seen so far are called *fully-connected* or *dense* networks. Each unit in one layer is connected to each unit in the next layer. In fully-connected networks, the input to each layer must be a one-dimensional vector (which can be stacked into a 2D tensor as a batch of multiple examples). However, our images are 28x28 2D tensors, so we need to convert them into 1D vectors. Thinking about sizes, we need to convert the batch of images with shape `(64, 1, 28, 28)` to a have a shape of `(64, 784)`, 784 is 28 times 28. This is typically called *flattening*, we flattened the 2D images into 1D vectors.\n",
    "\n",
    "Previously you built a network with one output unit. Here we need 10 output units, one for each digit. We want our network to predict the digit shown in an image, so what we'll do is calculate probabilities that the image is of any one digit or class. This ends up being a discrete probability distribution over the classes (digits) that tells us the most likely class for the image. That means we need 10 output units for the 10 classes (digits). We'll see how to convert the network output into a probability distribution next.\n",
    "\n",
    "> **Exercise:** Flatten the batch of images `images`. Then build a multi-layer network with 784 input units, 256 hidden units, and 10 output units using random tensors for the weights and biases. For now, use a sigmoid activation for the hidden layer. Leave the output layer without an activation, we'll add one that gives us a probability distribution next."
   ]
  },
  {
   "cell_type": "code",
   "execution_count": 137,
   "metadata": {},
   "outputs": [
    {
     "data": {
      "text/plain": [
       "tensor([[-1., -1., -1.,  ..., -1., -1., -1.],\n",
       "        [-1., -1., -1.,  ..., -1., -1., -1.],\n",
       "        [-1., -1., -1.,  ..., -1., -1., -1.],\n",
       "        ...,\n",
       "        [ 0.,  0.,  0.,  ..., -1., -1., -1.],\n",
       "        [-1., -1., -1.,  ..., -1., -1., -1.],\n",
       "        [-1., -1., -1.,  ..., -1., -1., -1.]])"
      ]
     },
     "execution_count": 137,
     "metadata": {},
     "output_type": "execute_result"
    }
   ],
   "source": [
    "#flatten image\n",
    "image.resize_(64,784)"
   ]
  },
  {
   "cell_type": "code",
   "execution_count": 138,
   "metadata": {},
   "outputs": [],
   "source": [
    "def activation(x):\n",
    "    \"\"\" Sigmoid activation function \n",
    "    \n",
    "        Arguments\n",
    "        ---------\n",
    "        x: torch.Tensor\n",
    "    \"\"\"\n",
    "    return 1/(1+torch.exp(-x))"
   ]
  },
  {
   "cell_type": "code",
   "execution_count": 139,
   "metadata": {},
   "outputs": [
    {
     "name": "stdout",
     "output_type": "stream",
     "text": [
      "784\n"
     ]
    }
   ],
   "source": [
    "n_input = image.shape[1]\n",
    "print(n_input)\n",
    "n_hidden = 256\n",
    "n_output = 10"
   ]
  },
  {
   "cell_type": "code",
   "execution_count": 140,
   "metadata": {},
   "outputs": [
    {
     "name": "stdout",
     "output_type": "stream",
     "text": [
      "torch.Size([784, 256])\n",
      "torch.Size([1, 256])\n"
     ]
    }
   ],
   "source": [
    "#input weight initalization size (748,256)\n",
    "torch.manual_seed(7) # Set the random seed so things are predictable\n",
    "w_i = torch.randn(n_input,n_hidden)\n",
    "print(w_i.shape)\n",
    "B_i = torch.randn((1,n_hidden))\n",
    "print(B_i.shape)"
   ]
  },
  {
   "cell_type": "code",
   "execution_count": 141,
   "metadata": {},
   "outputs": [
    {
     "name": "stdout",
     "output_type": "stream",
     "text": [
      "torch.Size([256, 10])\n",
      "torch.Size([1, 10])\n"
     ]
    }
   ],
   "source": [
    "w_h = torch.randn(n_hidden,n_output)\n",
    "print(w_h.shape)\n",
    "B_h = torch.randn(1,n_output)\n",
    "print(B_h.shape)"
   ]
  },
  {
   "cell_type": "code",
   "execution_count": 142,
   "metadata": {},
   "outputs": [
    {
     "name": "stdout",
     "output_type": "stream",
     "text": [
      "torch.Size([64, 256])\n",
      "torch.Size([64, 256])\n",
      "tensor([[  3.0695,   8.7149,  17.1593,  ..., -47.8728, -12.3531, -18.3876],\n",
      "        [ 14.0607,  28.1160,  26.0765,  ..., -33.4910, -14.0973,  -6.5938],\n",
      "        [  3.4519,  24.8184,  12.3103,  ..., -34.2307,  -9.8096, -13.3635],\n",
      "        ...,\n",
      "        [-11.7330,  13.5651, -20.2176,  ..., -22.3603,  -7.4132, -21.4876],\n",
      "        [ -4.2181,  27.2737, -10.0225,  ..., -52.9247, -32.3313, -17.5045],\n",
      "        [ -4.0318,  14.5359,  10.2469,  ..., -18.7075, -18.9685, -24.0083]])\n",
      "tensor([[9.5562e-01, 9.9984e-01, 1.0000e+00,  ..., 1.6185e-21, 4.3165e-06,\n",
      "         1.0337e-08],\n",
      "        [1.0000e+00, 1.0000e+00, 1.0000e+00,  ..., 2.8514e-15, 7.5444e-07,\n",
      "         1.3669e-03],\n",
      "        [9.6929e-01, 1.0000e+00, 1.0000e+00,  ..., 1.3609e-15, 5.4917e-05,\n",
      "         1.5715e-06],\n",
      "        ...,\n",
      "        [8.0242e-06, 1.0000e+00, 1.6581e-09,  ..., 1.9455e-10, 6.0287e-04,\n",
      "         4.6564e-10],\n",
      "        [1.4513e-02, 1.0000e+00, 4.4388e-05,  ..., 1.0354e-23, 9.0931e-15,\n",
      "         2.4997e-08],\n",
      "        [1.7433e-02, 1.0000e+00, 9.9996e-01,  ..., 7.5061e-09, 5.7822e-09,\n",
      "         3.7441e-11]])\n"
     ]
    }
   ],
   "source": [
    "#hidden linear output \n",
    "h = torch.mm(image,w_i)+B_i\n",
    "print(h.shape)\n",
    "#hidden layer function output\n",
    "f_h = activation(h)\n",
    "print(f_h.shape)\n",
    "print(h)\n",
    "print(f_h)"
   ]
  },
  {
   "cell_type": "code",
   "execution_count": 143,
   "metadata": {},
   "outputs": [
    {
     "name": "stdout",
     "output_type": "stream",
     "text": [
      "torch.Size([64, 10])\n",
      "tensor([[  3.5072,  -0.6168,   6.5973,   1.3570,   7.5995,  -1.1003,  -7.2573,\n",
      "          -4.9498,   4.5293,   1.0933],\n",
      "        [  5.5163,  -8.5393,   5.0633,  -6.0655,  -4.8301,  11.3687,  -0.0694,\n",
      "          -9.3315,   4.2169,  -9.3413],\n",
      "        [  6.7236,  -0.8429,   2.8086,   2.2255,   2.1866,   9.2156,   1.2221,\n",
      "          -4.3211,  -3.9329, -18.9014],\n",
      "        [ 11.3176,  -6.1222,  -1.6403,  -7.7112,  -2.8917,   6.7557,  -7.0778,\n",
      "          -4.8284,   1.2356,  -8.3320],\n",
      "        [  4.5365,  -3.8588,   0.7221, -10.7935,  -0.8513,   3.2159,   0.3715,\n",
      "          -3.7779,  -3.5561,  -3.7180],\n",
      "        [ 10.3153, -12.0556,  -7.6395, -19.3490,  -6.6525,   1.7918,  -4.5579,\n",
      "          -4.7657,   5.0785,  -0.2703],\n",
      "        [  3.7463,  -4.2311,  -0.4199,   0.7188,   1.3585,   5.9781, -12.8962,\n",
      "          -2.3367,   4.2264,  -7.3076],\n",
      "        [  6.1768,  -3.5317,   5.6056,   0.2974, -11.2632,  -2.5815,  -0.7234,\n",
      "          -8.5562,  -3.6681, -19.5644],\n",
      "        [  2.0903,  -3.3191,  -0.3079,  -7.3983,  -4.6019,   9.7036,  -8.0403,\n",
      "           1.2071,   7.3769,   3.4827],\n",
      "        [  3.0892,  -1.8817,   1.5975,  -8.8479,   6.7530,  15.6606,  -7.1894,\n",
      "         -15.1929,   0.0631,  -9.2212],\n",
      "        [ 12.9308,  -2.3547,  -0.5726, -14.9798,  -4.6390,   8.8571,  -5.8566,\n",
      "          -1.0462,   9.9027, -13.4874],\n",
      "        [  3.5324,  -6.8603,   4.2622,   1.3942,  -8.3426,   7.8642, -10.0712,\n",
      "          -6.5856,  -0.4785, -14.4872],\n",
      "        [  7.5795,  -8.2821,  -0.5582,  -0.7409,  -7.2970,  12.6298,  -4.3255,\n",
      "          -3.0558,   7.4489,  -7.7144],\n",
      "        [ -3.1187,  -4.3072,  -0.7135,  -0.5681,  -5.2702,  11.0101,  -9.0857,\n",
      "          -9.1602,  -2.8274,  -2.8029],\n",
      "        [ -5.0840, -11.2300,   3.5301, -10.3829, -11.3125,   7.0425,  -6.8176,\n",
      "          -8.8333,   8.9600, -15.0756],\n",
      "        [  3.8443,  -5.9695,  -1.3286,  -5.6962,  -2.1112,  -0.4385,  -5.7478,\n",
      "          -7.2280,  11.3152,  -1.0017],\n",
      "        [ -0.6614,   6.8386,  -0.8932,  -6.0843,   6.3191,   7.4149,   3.0731,\n",
      "           0.1433,   2.6487, -10.2322],\n",
      "        [  0.9494,  -6.1519,   2.7752,  -3.9574,   0.4048,   8.5051,   3.9739,\n",
      "         -10.8524,  -1.3470, -12.9466],\n",
      "        [ -2.4855,  -6.4136,  -5.6615,  -6.2928,   1.6789,  16.9352,   7.4398,\n",
      "         -11.0587,   2.9018,  -7.3980],\n",
      "        [  7.4897,  -4.0827,   0.0530,   5.0956, -10.1108,   3.8051,  -9.0996,\n",
      "          -4.1845,  10.0490,  -9.0603],\n",
      "        [  0.8500,   6.1463,   3.7109, -11.4662,   0.1885,  11.0783,  -3.7968,\n",
      "          -8.5128,   5.8170,  -3.8681],\n",
      "        [  1.2340, -12.9055,   2.6161,  -9.0524,   0.6541,  19.0065,  -5.3411,\n",
      "         -11.9975,   0.4230,  -9.6220],\n",
      "        [  3.2613, -11.8556,   2.0448,  -0.8077,  -0.0763,   3.6119,  -0.3774,\n",
      "          -6.5040,   0.3955, -10.7436],\n",
      "        [  0.5170, -11.9919,   0.7145, -17.2357,   1.8514,  13.5341,  -4.8066,\n",
      "          -3.0814,   9.7387, -14.0004],\n",
      "        [  0.2153,  -0.4123,  -1.7034,  -1.9741,  -2.2165,   8.0841,  -6.4815,\n",
      "          -5.2376,   5.1124,   6.7951],\n",
      "        [  5.8672,  -3.2532,  14.8078,  -2.2699,  -2.3738,   5.9641,  -9.3399,\n",
      "          -0.3777,  -1.2117,  -5.0003],\n",
      "        [ 10.2445,  -4.2209,  -0.3949,  -2.1731,  -5.8601,   5.8465,   2.7577,\n",
      "           2.1885,   1.1463, -15.9522],\n",
      "        [  4.9824,  -7.3534,  -1.3511,  -7.4644,   0.7742,   9.0252,  -2.5401,\n",
      "         -10.8320,  -3.3706,  -2.6534],\n",
      "        [  0.4437,  -4.0374,   1.1057,  -9.2107,  -7.6485,   7.6075,  -0.3143,\n",
      "          -8.5435,  11.7323,  -6.0646],\n",
      "        [ -3.2044, -10.2302,   4.9788,  -3.1376,  -0.4009,   6.0388,   2.1533,\n",
      "          -9.3498,  -8.3494, -22.0416],\n",
      "        [ -1.3471,  -6.8998,  -7.6030,  -9.8312,  -1.5910,  11.2755,  -9.9916,\n",
      "          -2.9576,   7.7041,  -0.8182],\n",
      "        [ -3.8197,  -8.8897,  -3.0061,   2.6605,  -5.5565,   7.4808,  -7.4379,\n",
      "          -7.9627,   7.9007,  -7.0713],\n",
      "        [ -2.7775,  -7.2321,   0.5266,   0.6078,  -7.4934,   7.6615,  -9.5014,\n",
      "         -12.3230,   2.2277,   5.5905],\n",
      "        [ -2.7775,  -7.2321,   0.5266,   0.6078,  -7.4934,   7.6615,  -9.5014,\n",
      "         -12.3230,   2.2277,   5.5905],\n",
      "        [ -2.7775,  -7.2321,   0.5266,   0.6078,  -7.4934,   7.6615,  -9.5014,\n",
      "         -12.3230,   2.2277,   5.5905],\n",
      "        [ -2.7775,  -7.2321,   0.5266,   0.6078,  -7.4934,   7.6615,  -9.5014,\n",
      "         -12.3230,   2.2277,   5.5905],\n",
      "        [ -2.7775,  -7.2321,   0.5266,   0.6078,  -7.4934,   7.6615,  -9.5014,\n",
      "         -12.3230,   2.2277,   5.5905],\n",
      "        [ -2.7775,  -7.2321,   0.5266,   0.6078,  -7.4934,   7.6615,  -9.5014,\n",
      "         -12.3230,   2.2277,   5.5905],\n",
      "        [ -2.7775,  -7.2321,   0.5266,   0.6078,  -7.4934,   7.6615,  -9.5014,\n",
      "         -12.3230,   2.2277,   5.5905],\n",
      "        [ -2.7775,  -7.2321,   0.5266,   0.6078,  -7.4934,   7.6615,  -9.5014,\n",
      "         -12.3230,   2.2277,   5.5905],\n",
      "        [ -2.7775,  -7.2321,   0.5266,   0.6078,  -7.4934,   7.6615,  -9.5014,\n",
      "         -12.3230,   2.2277,   5.5905],\n",
      "        [ -2.7775,  -7.2321,   0.5266,   0.6078,  -7.4934,   7.6615,  -9.5014,\n",
      "         -12.3230,   2.2277,   5.5905],\n",
      "        [ -2.7775,  -7.2321,   0.5266,   0.6078,  -7.4934,   7.6615,  -9.5014,\n",
      "         -12.3230,   2.2277,   5.5905],\n",
      "        [ -2.7775,  -7.2321,   0.5266,   0.6078,  -7.4934,   7.6615,  -9.5014,\n",
      "         -12.3230,   2.2277,   5.5905],\n",
      "        [ -2.7775,  -7.2321,   0.5266,   0.6078,  -7.4934,   7.6615,  -9.5014,\n",
      "         -12.3230,   2.2277,   5.5905],\n",
      "        [ -2.7775,  -7.2321,   0.5266,   0.6078,  -7.4934,   7.6615,  -9.5014,\n",
      "         -12.3230,   2.2277,   5.5905],\n",
      "        [ -2.7775,  -7.2321,   0.5266,   0.6078,  -7.4934,   7.6615,  -9.5014,\n",
      "         -12.3230,   2.2277,   5.5905],\n",
      "        [ -2.7775,  -7.2321,   0.5266,   0.6078,  -7.4934,   7.6615,  -9.5014,\n",
      "         -12.3230,   2.2277,   5.5905],\n",
      "        [ -2.7775,  -7.2321,   0.5266,   0.6078,  -7.4934,   7.6615,  -9.5014,\n",
      "         -12.3230,   2.2277,   5.5905],\n",
      "        [ -2.7775,  -7.2321,   0.5266,   0.6078,  -7.4934,   7.6615,  -9.5014,\n",
      "         -12.3230,   2.2277,   5.5905],\n",
      "        [ -2.7775,  -7.2321,   0.5266,   0.6078,  -7.4934,   7.6615,  -9.5014,\n",
      "         -12.3230,   2.2277,   5.5905],\n",
      "        [ -2.7775,  -7.2321,   0.5266,   0.6078,  -7.4934,   7.6615,  -9.5014,\n",
      "         -12.3230,   2.2277,   5.5905],\n",
      "        [ -2.7775,  -7.2321,   0.5266,   0.6078,  -7.4934,   7.6615,  -9.5014,\n",
      "         -12.3230,   2.2277,   5.5905],\n",
      "        [ -2.7775,  -7.2321,   0.5266,   0.6078,  -7.4934,   7.6615,  -9.5014,\n",
      "         -12.3230,   2.2277,   5.5905],\n",
      "        [ -2.7775,  -7.2321,   0.5266,   0.6078,  -7.4934,   7.6615,  -9.5014,\n",
      "         -12.3230,   2.2277,   5.5905],\n",
      "        [ -2.7775,  -7.2321,   0.5266,   0.6078,  -7.4934,   7.6615,  -9.5014,\n",
      "         -12.3230,   2.2277,   5.5905],\n",
      "        [ -2.7775,  -7.2321,   0.5266,   0.6078,  -7.4934,   7.6615,  -9.5014,\n",
      "         -12.3230,   2.2277,   5.5905],\n",
      "        [ -2.7775,  -7.2321,   0.5266,   0.6078,  -7.4934,   7.6615,  -9.5014,\n",
      "         -12.3230,   2.2277,   5.5905],\n",
      "        [ -2.7775,  -7.2321,   0.5266,   0.6078,  -7.4934,   7.6615,  -9.5014,\n",
      "         -12.3230,   2.2277,   5.5905],\n",
      "        [ -2.7775,  -7.2321,   0.5266,   0.6078,  -7.4934,   7.6615,  -9.5014,\n",
      "         -12.3230,   2.2277,   5.5905],\n",
      "        [ -8.1225,  -6.1760,   8.2941,   2.8147,  -9.3064,  11.3573,  -8.9615,\n",
      "           0.9815,  16.6669,   9.5214],\n",
      "        [  3.1265,  -8.5874,   3.8044,  -3.7854,  -7.6749,  -3.9618,  -7.3392,\n",
      "           8.5961,   3.5182,  -9.8208],\n",
      "        [  5.7152, -11.7935,   4.5375,  -7.2025,  -5.1030,   2.3383, -11.6525,\n",
      "          -2.7250,   9.1284,  -6.4255],\n",
      "        [ -1.4026,  -5.0339,   1.4500, -17.8944, -14.7309,   2.9661,  -4.8035,\n",
      "          -3.3557,  11.0040,  -8.2008]])\n"
     ]
    }
   ],
   "source": [
    "## Your solution\n",
    "#linear output\n",
    "out = torch.mm(f_h,w_h)+B_h# output of your network, should have shape (64,10)\n",
    "#print(y_hat)\n",
    "print(out.shape)\n",
    "print(out)"
   ]
  },
  {
   "cell_type": "markdown",
   "metadata": {},
   "source": [
    "Now we have 10 outputs for our network. We want to pass in an image to our network and get out a probability distribution over the classes that tells us the likely class(es) the image belongs to. Something that looks like this:\n",
    "<img src='assets/image_distribution.png' width=500px>\n",
    "\n",
    "Here we see that the probability for each class is roughly the same. This is representing an untrained network, it hasn't seen any data yet so it just returns a uniform distribution with equal probabilities for each class.\n",
    "\n",
    "To calculate this probability distribution, we often use the [**softmax** function](https://en.wikipedia.org/wiki/Softmax_function). Mathematically this looks like\n",
    "\n",
    "$$\n",
    "\\Large \\sigma(x_i) = \\cfrac{e^{x_i}}{\\sum_k^K{e^{x_k}}}\n",
    "$$\n",
    "\n",
    "What this does is squish each input $x_i$ between 0 and 1 and normalizes the values to give you a proper probability distribution where the probabilites sum up to one.\n",
    "\n",
    "> **Exercise:** Implement a function `softmax` that performs the softmax calculation and returns probability distributions for each example in the batch. Note that you'll need to pay attention to the shapes when doing this. If you have a tensor `a` with shape `(64, 10)` and a tensor `b` with shape `(64,)`, doing `a/b` will give you an error because PyTorch will try to do the division across the columns (called broadcasting) but you'll get a size mismatch. The way to think about this is for each of the 64 examples, you only want to divide by one value, the sum in the denominator. So you need `b` to have a shape of `(64, 1)`. This way PyTorch will divide the 10 values in each row of `a` by the one value in each row of `b`. Pay attention to how you take the sum as well. You'll need to define the `dim` keyword in `torch.sum`. Setting `dim=0` takes the sum across the rows while `dim=1` takes the sum across the columns."
   ]
  },
  {
   "cell_type": "code",
   "execution_count": 144,
   "metadata": {},
   "outputs": [
    {
     "name": "stdout",
     "output_type": "stream",
     "text": [
      "torch.Size([64])\n",
      "torch.Size([64, 1])\n"
     ]
    }
   ],
   "source": [
    "#prepare a, b for softmax function\n",
    "b = torch.sum(torch.exp(out), dim=1)\n",
    "#print(b)\n",
    "print(b.shape)\n",
    "b_reshape = b.view(out.shape[0],1)\n",
    "print(b_reshape.shape)\n",
    "#print(b_reshape)"
   ]
  },
  {
   "cell_type": "code",
   "execution_count": 145,
   "metadata": {},
   "outputs": [
    {
     "name": "stdout",
     "output_type": "stream",
     "text": [
      "torch.Size([64, 10])\n",
      "tensor([1.0000, 1.0000, 1.0000, 1.0000, 1.0000, 1.0000, 1.0000, 1.0000, 1.0000,\n",
      "        1.0000, 1.0000, 1.0000, 1.0000, 1.0000, 1.0000, 1.0000, 1.0000, 1.0000,\n",
      "        1.0000, 1.0000, 1.0000, 1.0000, 1.0000, 1.0000, 1.0000, 1.0000, 1.0000,\n",
      "        1.0000, 1.0000, 1.0000, 1.0000, 1.0000, 1.0000, 1.0000, 1.0000, 1.0000,\n",
      "        1.0000, 1.0000, 1.0000, 1.0000, 1.0000, 1.0000, 1.0000, 1.0000, 1.0000,\n",
      "        1.0000, 1.0000, 1.0000, 1.0000, 1.0000, 1.0000, 1.0000, 1.0000, 1.0000,\n",
      "        1.0000, 1.0000, 1.0000, 1.0000, 1.0000, 1.0000, 1.0000, 1.0000, 1.0000,\n",
      "        1.0000])\n",
      "tensor([[1.1647e-02, 1.8843e-04, 2.5597e-01, 1.3564e-03, 6.9731e-01, 1.1619e-04,\n",
      "         2.4617e-07, 2.4737e-06, 3.2364e-02, 1.0420e-03],\n",
      "        [2.8573e-03, 2.2475e-09, 1.8165e-03, 2.6671e-08, 9.1747e-08, 9.9454e-01,\n",
      "         1.0719e-05, 1.0177e-09, 7.7915e-04, 1.0079e-09],\n",
      "        [7.6153e-02, 3.9406e-05, 1.5185e-03, 8.4756e-04, 8.1519e-04, 9.2031e-01,\n",
      "         3.1075e-04, 1.2162e-06, 1.7931e-06, 5.6605e-13],\n",
      "        [9.8962e-01, 2.6392e-08, 2.3332e-06, 5.3877e-09, 6.6752e-07, 1.0334e-02,\n",
      "         1.0150e-08, 9.6241e-08, 4.1396e-05, 2.8957e-09],\n",
      "        [7.6325e-01, 1.7245e-04, 1.6831e-02, 1.6786e-07, 3.4896e-03, 2.0378e-01,\n",
      "         1.1854e-02, 1.8697e-04, 2.3340e-04, 1.9851e-04],\n",
      "        [9.9449e-01, 1.9146e-10, 1.5847e-08, 1.3019e-13, 4.2522e-08, 1.9765e-04,\n",
      "         3.4534e-07, 2.8056e-07, 5.2880e-03, 2.5140e-05],\n",
      "        [8.2699e-02, 2.8379e-05, 1.2828e-03, 4.0059e-03, 7.5950e-03, 7.7053e-01,\n",
      "         4.8954e-09, 1.8868e-04, 1.3367e-01, 1.3088e-06],\n",
      "        [6.3738e-01, 3.8729e-05, 3.6002e-01, 1.7823e-03, 1.6994e-08, 1.0017e-04,\n",
      "         6.4221e-04, 2.5464e-07, 3.3790e-05, 4.2181e-12],\n",
      "        [4.4881e-04, 2.0080e-06, 4.0786e-05, 3.3980e-08, 5.5676e-07, 9.0880e-01,\n",
      "         1.7881e-08, 1.8555e-04, 8.8712e-02, 1.8062e-03],\n",
      "        [3.4693e-06, 2.4066e-08, 7.8058e-07, 2.2700e-11, 1.3534e-04, 9.9986e-01,\n",
      "         1.1921e-10, 3.9850e-14, 1.6828e-07, 1.5627e-11],\n",
      "        [9.3859e-01, 2.1581e-07, 1.2824e-06, 7.0968e-13, 2.1979e-08, 1.5971e-02,\n",
      "         6.5047e-09, 7.9868e-07, 4.5437e-02, 3.1566e-12],\n",
      "        [1.2611e-02, 3.8659e-07, 2.6164e-02, 1.4864e-03, 8.7806e-08, 9.5951e-01,\n",
      "         1.5588e-08, 5.0883e-07, 2.2846e-04, 1.8834e-10],\n",
      "        [6.3310e-03, 8.1823e-10, 1.8506e-06, 1.5415e-06, 2.1913e-09, 9.8811e-01,\n",
      "         4.2777e-08, 1.5228e-07, 5.5561e-03, 1.4435e-09],\n",
      "        [7.3103e-07, 2.2274e-07, 8.1005e-06, 9.3683e-06, 8.5027e-08, 9.9998e-01,\n",
      "         1.8728e-09, 1.7384e-09, 9.7832e-07, 1.0026e-06],\n",
      "        [6.9113e-07, 1.4805e-09, 3.8072e-03, 3.4538e-09, 1.3632e-09, 1.2766e-01,\n",
      "         1.2208e-07, 1.6265e-08, 8.6854e-01, 3.1642e-11],\n",
      "        [5.6912e-04, 3.1124e-08, 3.2258e-06, 4.0907e-08, 1.4749e-06, 7.8559e-06,\n",
      "         3.8850e-08, 8.8421e-09, 9.9941e-01, 4.4728e-06],\n",
      "        [1.6197e-04, 2.9286e-01, 1.2846e-04, 7.1495e-07, 1.7419e-01, 5.2108e-01,\n",
      "         6.7810e-03, 3.6217e-04, 4.4358e-03, 1.1295e-08],\n",
      "        [5.1549e-04, 4.2475e-07, 3.2000e-03, 3.8124e-06, 2.9900e-04, 9.8532e-01,\n",
      "         1.0610e-02, 3.8614e-09, 5.1868e-05, 4.7559e-10],\n",
      "        [3.6783e-09, 7.2393e-11, 1.5357e-10, 8.1687e-11, 2.3673e-07, 9.9992e-01,\n",
      "         7.5190e-05, 6.9561e-13, 8.0409e-07, 2.7051e-11],\n",
      "        [7.1203e-02, 6.7096e-07, 4.1957e-05, 6.4982e-03, 1.6170e-09, 1.7878e-03,\n",
      "         4.4451e-09, 6.0604e-07, 9.2047e-01, 4.6230e-09],\n",
      "        [3.5665e-05, 7.1184e-03, 6.2334e-04, 1.5972e-10, 1.8407e-05, 9.8708e-01,\n",
      "         3.4211e-07, 3.0622e-09, 5.1216e-03, 3.1855e-07],\n",
      "        [1.9121e-08, 1.3830e-14, 7.6162e-08, 6.5188e-13, 1.0707e-08, 1.0000e+00,\n",
      "         2.6668e-11, 3.4289e-14, 8.4974e-09, 3.6881e-13],\n",
      "        [3.5063e-01, 9.5423e-08, 1.0388e-01, 5.9934e-03, 1.2454e-02, 4.9785e-01,\n",
      "         9.2167e-03, 2.0128e-05, 1.9963e-02, 2.9012e-07],\n",
      "        [2.1731e-06, 8.0266e-12, 2.6474e-06, 4.2381e-14, 8.2528e-06, 9.7801e-01,\n",
      "         1.0593e-08, 5.9473e-08, 2.1978e-02, 1.0771e-12],\n",
      "        [2.8812e-04, 1.5383e-04, 4.2298e-05, 3.2265e-05, 2.5319e-05, 7.5331e-01,\n",
      "         3.5579e-07, 1.2343e-06, 3.8580e-02, 2.0756e-01],\n",
      "        [1.3093e-04, 1.4325e-08, 9.9972e-01, 3.8294e-08, 3.4515e-08, 1.4424e-04,\n",
      "         3.2558e-11, 2.5404e-07, 1.1033e-07, 2.4965e-09],\n",
      "        [9.8686e-01, 5.1523e-07, 2.3638e-05, 3.9936e-06, 1.0002e-07, 1.2140e-02,\n",
      "         5.5308e-04, 3.1302e-04, 1.1040e-04, 4.1415e-12],\n",
      "        [1.7240e-02, 7.5712e-08, 3.0615e-05, 6.7762e-08, 2.5642e-04, 9.8245e-01,\n",
      "         9.3236e-06, 2.3357e-09, 4.0632e-06, 8.3249e-06],\n",
      "        [1.2314e-05, 1.3941e-07, 2.3874e-05, 7.8993e-10, 3.7671e-09, 1.5908e-02,\n",
      "         5.7704e-06, 1.5393e-09, 9.8405e-01, 1.8362e-08],\n",
      "        [7.0697e-05, 6.2822e-08, 2.5310e-01, 7.5577e-05, 1.1666e-03, 7.3059e-01,\n",
      "         1.5003e-02, 1.5152e-07, 4.1205e-07, 4.6613e-13],\n",
      "        [3.2064e-06, 1.2431e-08, 6.1536e-09, 6.6288e-10, 2.5124e-06, 9.7264e-01,\n",
      "         5.6462e-10, 6.4059e-07, 2.7347e-02, 5.4414e-06],\n",
      "        [4.8880e-06, 3.0711e-08, 1.1028e-05, 3.1875e-03, 8.6069e-07, 3.9527e-01,\n",
      "         1.3116e-07, 7.7598e-08, 6.0153e-01, 1.8923e-07],\n",
      "        [2.5851e-05, 3.0054e-07, 7.0378e-04, 7.6334e-04, 2.3141e-07, 8.8330e-01,\n",
      "         3.1069e-08, 1.8490e-09, 3.8567e-03, 1.1135e-01],\n",
      "        [2.5851e-05, 3.0054e-07, 7.0378e-04, 7.6334e-04, 2.3141e-07, 8.8330e-01,\n",
      "         3.1069e-08, 1.8490e-09, 3.8567e-03, 1.1135e-01],\n",
      "        [2.5851e-05, 3.0054e-07, 7.0378e-04, 7.6334e-04, 2.3141e-07, 8.8330e-01,\n",
      "         3.1069e-08, 1.8490e-09, 3.8567e-03, 1.1135e-01],\n",
      "        [2.5851e-05, 3.0054e-07, 7.0378e-04, 7.6334e-04, 2.3141e-07, 8.8330e-01,\n",
      "         3.1069e-08, 1.8490e-09, 3.8567e-03, 1.1135e-01],\n",
      "        [2.5851e-05, 3.0054e-07, 7.0378e-04, 7.6334e-04, 2.3141e-07, 8.8330e-01,\n",
      "         3.1069e-08, 1.8490e-09, 3.8567e-03, 1.1135e-01],\n",
      "        [2.5851e-05, 3.0054e-07, 7.0378e-04, 7.6334e-04, 2.3141e-07, 8.8330e-01,\n",
      "         3.1069e-08, 1.8490e-09, 3.8567e-03, 1.1135e-01],\n",
      "        [2.5851e-05, 3.0054e-07, 7.0378e-04, 7.6334e-04, 2.3141e-07, 8.8330e-01,\n",
      "         3.1069e-08, 1.8490e-09, 3.8567e-03, 1.1135e-01],\n",
      "        [2.5851e-05, 3.0054e-07, 7.0378e-04, 7.6334e-04, 2.3141e-07, 8.8330e-01,\n",
      "         3.1069e-08, 1.8490e-09, 3.8567e-03, 1.1135e-01],\n",
      "        [2.5851e-05, 3.0054e-07, 7.0378e-04, 7.6334e-04, 2.3141e-07, 8.8330e-01,\n",
      "         3.1069e-08, 1.8490e-09, 3.8567e-03, 1.1135e-01],\n",
      "        [2.5851e-05, 3.0054e-07, 7.0378e-04, 7.6334e-04, 2.3141e-07, 8.8330e-01,\n",
      "         3.1069e-08, 1.8490e-09, 3.8567e-03, 1.1135e-01],\n",
      "        [2.5851e-05, 3.0054e-07, 7.0378e-04, 7.6334e-04, 2.3141e-07, 8.8330e-01,\n",
      "         3.1069e-08, 1.8490e-09, 3.8567e-03, 1.1135e-01],\n",
      "        [2.5851e-05, 3.0054e-07, 7.0378e-04, 7.6334e-04, 2.3141e-07, 8.8330e-01,\n",
      "         3.1069e-08, 1.8490e-09, 3.8567e-03, 1.1135e-01],\n",
      "        [2.5851e-05, 3.0054e-07, 7.0378e-04, 7.6334e-04, 2.3141e-07, 8.8330e-01,\n",
      "         3.1069e-08, 1.8490e-09, 3.8567e-03, 1.1135e-01],\n",
      "        [2.5851e-05, 3.0054e-07, 7.0378e-04, 7.6334e-04, 2.3141e-07, 8.8330e-01,\n",
      "         3.1069e-08, 1.8490e-09, 3.8567e-03, 1.1135e-01],\n",
      "        [2.5851e-05, 3.0054e-07, 7.0378e-04, 7.6334e-04, 2.3141e-07, 8.8330e-01,\n",
      "         3.1069e-08, 1.8490e-09, 3.8567e-03, 1.1135e-01],\n",
      "        [2.5851e-05, 3.0054e-07, 7.0378e-04, 7.6334e-04, 2.3141e-07, 8.8330e-01,\n",
      "         3.1069e-08, 1.8490e-09, 3.8567e-03, 1.1135e-01],\n",
      "        [2.5851e-05, 3.0054e-07, 7.0378e-04, 7.6334e-04, 2.3141e-07, 8.8330e-01,\n",
      "         3.1069e-08, 1.8490e-09, 3.8567e-03, 1.1135e-01],\n",
      "        [2.5851e-05, 3.0054e-07, 7.0378e-04, 7.6334e-04, 2.3141e-07, 8.8330e-01,\n",
      "         3.1069e-08, 1.8490e-09, 3.8567e-03, 1.1135e-01],\n",
      "        [2.5851e-05, 3.0054e-07, 7.0378e-04, 7.6334e-04, 2.3141e-07, 8.8330e-01,\n",
      "         3.1069e-08, 1.8490e-09, 3.8567e-03, 1.1135e-01],\n",
      "        [2.5851e-05, 3.0054e-07, 7.0378e-04, 7.6334e-04, 2.3141e-07, 8.8330e-01,\n",
      "         3.1069e-08, 1.8490e-09, 3.8567e-03, 1.1135e-01],\n",
      "        [2.5851e-05, 3.0054e-07, 7.0378e-04, 7.6334e-04, 2.3141e-07, 8.8330e-01,\n",
      "         3.1069e-08, 1.8490e-09, 3.8567e-03, 1.1135e-01],\n",
      "        [2.5851e-05, 3.0054e-07, 7.0378e-04, 7.6334e-04, 2.3141e-07, 8.8330e-01,\n",
      "         3.1069e-08, 1.8490e-09, 3.8567e-03, 1.1135e-01],\n",
      "        [2.5851e-05, 3.0054e-07, 7.0378e-04, 7.6334e-04, 2.3141e-07, 8.8330e-01,\n",
      "         3.1069e-08, 1.8490e-09, 3.8567e-03, 1.1135e-01],\n",
      "        [2.5851e-05, 3.0054e-07, 7.0378e-04, 7.6334e-04, 2.3141e-07, 8.8330e-01,\n",
      "         3.1069e-08, 1.8490e-09, 3.8567e-03, 1.1135e-01],\n",
      "        [2.5851e-05, 3.0054e-07, 7.0378e-04, 7.6334e-04, 2.3141e-07, 8.8330e-01,\n",
      "         3.1069e-08, 1.8490e-09, 3.8567e-03, 1.1135e-01],\n",
      "        [2.5851e-05, 3.0054e-07, 7.0378e-04, 7.6334e-04, 2.3141e-07, 8.8330e-01,\n",
      "         3.1069e-08, 1.8490e-09, 3.8567e-03, 1.1135e-01],\n",
      "        [2.5851e-05, 3.0054e-07, 7.0378e-04, 7.6334e-04, 2.3141e-07, 8.8330e-01,\n",
      "         3.1069e-08, 1.8490e-09, 3.8567e-03, 1.1135e-01],\n",
      "        [2.5851e-05, 3.0054e-07, 7.0378e-04, 7.6334e-04, 2.3141e-07, 8.8330e-01,\n",
      "         3.1069e-08, 1.8490e-09, 3.8567e-03, 1.1135e-01],\n",
      "        [1.7042e-11, 1.1936e-10, 2.2969e-04, 9.5830e-07, 5.2160e-12, 4.9146e-03,\n",
      "         7.3648e-12, 1.5322e-07, 9.9407e-01, 7.8370e-04],\n",
      "        [4.1354e-03, 3.3824e-08, 8.1458e-03, 4.1185e-06, 8.4242e-08, 3.4525e-06,\n",
      "         1.1785e-07, 9.8159e-01, 6.1184e-03, 9.8537e-09],\n",
      "        [3.1542e-02, 7.8518e-10, 9.7145e-03, 7.7411e-08, 6.3180e-07, 1.0772e-03,\n",
      "         9.0400e-10, 6.8133e-06, 9.5766e-01, 1.6836e-07],\n",
      "        [4.0900e-06, 1.0831e-07, 7.0888e-05, 2.8146e-13, 6.6578e-12, 3.2287e-04,\n",
      "         1.3638e-07, 5.8009e-07, 9.9960e-01, 4.5635e-09]])\n"
     ]
    }
   ],
   "source": [
    "def softmax(x):\n",
    "    ## TODO: Implement the softmax function here\n",
    "    b = torch.sum(torch.exp(x), dim=1)\n",
    "    b_reshape = b.view(x.shape[0],1)\n",
    "    return torch.exp(x)/b_reshape\n",
    "\n",
    "# Here, out should be the output of the network in the previous excercise with shape (64,10)\n",
    "probabilities = softmax(out)\n",
    "\n",
    "# Does it have the right shape? Should be (64, 10)\n",
    "print(probabilities.shape)\n",
    "# Does it sum to 1?\n",
    "print(probabilities.sum(dim=1))\n",
    "\n",
    "print(probabilities)"
   ]
  },
  {
   "cell_type": "markdown",
   "metadata": {},
   "source": [
    "## Building networks with PyTorch\n",
    "\n",
    "PyTorch provides a module `nn` that makes building networks much simpler. Here I'll show you how to build the same one as above with 784 inputs, 256 hidden units, 10 output units and a softmax output."
   ]
  },
  {
   "cell_type": "code",
   "execution_count": 146,
   "metadata": {},
   "outputs": [],
   "source": [
    "from torch import nn"
   ]
  },
  {
   "cell_type": "code",
   "execution_count": 147,
   "metadata": {},
   "outputs": [],
   "source": [
    "class Network(nn.Module):\n",
    "    def __init__(self):\n",
    "        super().__init__() #super helps Class Network inherits some methods and attributes from nn.Module\n",
    "        \n",
    "        # Inputs to hidden layer linear transformation\n",
    "        self.hidden = nn.Linear(784, 256)\n",
    "        # Output layer, 10 units - one for each digit\n",
    "        self.output = nn.Linear(256, 10)\n",
    "        \n",
    "        # Define sigmoid activation and softmax output \n",
    "        self.sigmoid = nn.Sigmoid()\n",
    "        self.softmax = nn.Softmax(dim=1)\n",
    "        \n",
    "    def forward(self, x):\n",
    "        # Pass the input tensor through each of our operations\n",
    "        x = self.hidden(x)\n",
    "        x = self.sigmoid(x)\n",
    "        x = self.output(x)\n",
    "        x = self.softmax(x)\n",
    "        \n",
    "        return x"
   ]
  },
  {
   "cell_type": "markdown",
   "metadata": {},
   "source": [
    "Let's go through this bit by bit.\n",
    "\n",
    "```python\n",
    "class Network(nn.Module):\n",
    "```\n",
    "\n",
    "Here we're inheriting from `nn.Module`. Combined with `super().__init__()` this creates a class that tracks the architecture and provides a lot of useful methods and attributes. It is mandatory to inherit from `nn.Module` when you're creating a class for your network. The name of the class itself can be anything.\n",
    "\n",
    "```python\n",
    "self.hidden = nn.Linear(784, 256)\n",
    "```\n",
    "\n",
    "This line creates a module for a linear transformation, $x\\mathbf{W} + b$, with 784 inputs and 256 outputs and assigns it to `self.hidden`. The module automatically creates the weight and bias tensors which we'll use in the `forward` method. You can access the weight and bias tensors once the network (`net`) is created with `net.hidden.weight` and `net.hidden.bias`.\n",
    "\n",
    "```python\n",
    "self.output = nn.Linear(256, 10)\n",
    "```\n",
    "\n",
    "Similarly, this creates another linear transformation with 256 inputs and 10 outputs.\n",
    "\n",
    "```python\n",
    "self.sigmoid = nn.Sigmoid()\n",
    "self.softmax = nn.Softmax(dim=1)\n",
    "```\n",
    "\n",
    "Here I defined operations for the sigmoid activation and softmax output. Setting `dim=1` in `nn.Softmax(dim=1)` calculates softmax across the columns.\n",
    "\n",
    "```python\n",
    "def forward(self, x):\n",
    "```\n",
    "\n",
    "PyTorch networks created with `nn.Module` must have a `forward` method defined. It takes in a tensor `x` and passes it through the operations you defined in the `__init__` method.\n",
    "\n",
    "```python\n",
    "x = self.hidden(x)\n",
    "x = self.sigmoid(x)\n",
    "x = self.output(x)\n",
    "x = self.softmax(x)\n",
    "```\n",
    "\n",
    "Here the input tensor `x` is passed through each operation a reassigned to `x`. We can see that the input tensor goes through the hidden layer, then a sigmoid function, then the output layer, and finally the softmax function. It doesn't matter what you name the variables here, as long as the inputs and outputs of the operations match the network architecture you want to build. The order in which you define things in the `__init__` method doesn't matter, but you'll need to sequence the operations correctly in the `forward` method.\n",
    "\n",
    "Now we can create a `Network` object."
   ]
  },
  {
   "cell_type": "code",
   "execution_count": 148,
   "metadata": {},
   "outputs": [
    {
     "data": {
      "text/plain": [
       "Network(\n",
       "  (hidden): Linear(in_features=784, out_features=256, bias=True)\n",
       "  (output): Linear(in_features=256, out_features=10, bias=True)\n",
       "  (sigmoid): Sigmoid()\n",
       "  (softmax): Softmax()\n",
       ")"
      ]
     },
     "execution_count": 148,
     "metadata": {},
     "output_type": "execute_result"
    }
   ],
   "source": [
    "# Create the network and look at it's text representation\n",
    "model = Network()\n",
    "model"
   ]
  },
  {
   "cell_type": "markdown",
   "metadata": {},
   "source": [
    "You can define the network somewhat more concisely and clearly using the `torch.nn.functional` module. This is the most common way you'll see networks defined as many operations are simple element-wise functions. We normally import this module as `F`, `import torch.nn.functional as F`."
   ]
  },
  {
   "cell_type": "code",
   "execution_count": 150,
   "metadata": {},
   "outputs": [],
   "source": [
    "import torch.nn.functional as F\n",
    "\n",
    "class Network(nn.Module):\n",
    "    def __init__(self):\n",
    "        super().__init__()\n",
    "        # Inputs to hidden layer linear transformation\n",
    "        self.hidden = nn.Linear(784, 256)\n",
    "        # Output layer, 10 units - one for each digit\n",
    "        self.output = nn.Linear(256, 10)\n",
    "        \n",
    "    def forward(self, x):\n",
    "        # Hidden layer with sigmoid activation\n",
    "        x = F.sigmoid(self.hidden(x))\n",
    "        # Output layer with softmax activation\n",
    "        x = F.softmax(self.output(x), dim=1)\n",
    "        \n",
    "        return x"
   ]
  },
  {
   "cell_type": "markdown",
   "metadata": {},
   "source": [
    "### Activation functions\n",
    "\n",
    "So far we've only been looking at the softmax activation, but in general any function can be used as an activation function. The only requirement is that for a network to approximate a non-linear function, the activation functions must be non-linear. Here are a few more examples of common activation functions: Tanh (hyperbolic tangent), and ReLU (rectified linear unit).\n",
    "\n",
    "<img src=\"assets/activation.png\" width=700px>\n",
    "\n",
    "In practice, the ReLU function is used almost exclusively as the activation function for hidden layers."
   ]
  },
  {
   "cell_type": "markdown",
   "metadata": {},
   "source": [
    "### Your Turn to Build a Network\n",
    "\n",
    "<img src=\"assets/mlp_mnist.png\" width=600px>\n",
    "\n",
    "> **Exercise:** Create a network with 784 input units, a hidden layer with 128 units and a ReLU activation, then a hidden layer with 64 units and a ReLU activation, and finally an output layer with a softmax activation as shown above. You can use a ReLU activation with the `nn.ReLU` module or `F.relu` function."
   ]
  },
  {
   "cell_type": "code",
   "execution_count": 151,
   "metadata": {
    "scrolled": true
   },
   "outputs": [],
   "source": [
    "## Your solution here\n",
    "#Buil another Network class\n",
    "import torch.nn.functional as F\n",
    "class Model(nn.Module):\n",
    "    def __init__(self):\n",
    "        super().__init__()\n",
    "        self.fc1 = nn.Linear(784,128)\n",
    "        self.fc2 =  nn.Linear(128,64)\n",
    "        self.output = nn.Linear(64,10)\n",
    "            \n",
    "    def forward(self,x):\n",
    "        x = F.relu(self.fc1(x))\n",
    "        x = F.relu(self.fc2(x))\n",
    "        x = F.softmax(self.output(x),dim=1)\n",
    "        return x\n",
    "        "
   ]
  },
  {
   "cell_type": "code",
   "execution_count": 152,
   "metadata": {},
   "outputs": [
    {
     "data": {
      "text/plain": [
       "Model(\n",
       "  (fc1): Linear(in_features=784, out_features=128, bias=True)\n",
       "  (fc2): Linear(in_features=128, out_features=64, bias=True)\n",
       "  (output): Linear(in_features=64, out_features=10, bias=True)\n",
       ")"
      ]
     },
     "execution_count": 152,
     "metadata": {},
     "output_type": "execute_result"
    }
   ],
   "source": [
    "model = Model()\n",
    "model"
   ]
  },
  {
   "cell_type": "markdown",
   "metadata": {},
   "source": [
    "### Initializing weights and biases\n",
    "\n",
    "The weights and such are automatically initialized for you, but it's possible to customize how they are initialized. The weights and biases are tensors attached to the layer you defined, you can get them with `model.fc1.weight` for instance."
   ]
  },
  {
   "cell_type": "code",
   "execution_count": 153,
   "metadata": {},
   "outputs": [
    {
     "name": "stdout",
     "output_type": "stream",
     "text": [
      "torch.Size([128, 784])\n",
      "torch.Size([128])\n",
      "torch.Size([64, 128])\n",
      "torch.Size([64])\n"
     ]
    }
   ],
   "source": [
    "#print(model.fc1.weight)\n",
    "#print(model.fc1.bias)\n",
    "print(model.fc1.weight.shape)\n",
    "print(model.fc1.bias.shape)\n",
    "print(model.fc2.weight.shape)\n",
    "print(model.fc2.bias.shape)"
   ]
  },
  {
   "cell_type": "markdown",
   "metadata": {},
   "source": [
    "For custom initialization, we want to modify these tensors in place. These are actually autograd *Variables*, so we need to get back the actual tensors with `model.fc1.weight.data`. Once we have the tensors, we can fill them with zeros (for biases) or random normal values."
   ]
  },
  {
   "cell_type": "code",
   "execution_count": 154,
   "metadata": {},
   "outputs": [
    {
     "data": {
      "text/plain": [
       "torch.Size([128])"
      ]
     },
     "execution_count": 154,
     "metadata": {},
     "output_type": "execute_result"
    }
   ],
   "source": [
    "# Set biases to all zeros\n",
    "model.fc1.bias.data.fill_(0)\n",
    "model.fc1.bias.shape\n",
    "#model.fc1.bias"
   ]
  },
  {
   "cell_type": "code",
   "execution_count": 155,
   "metadata": {},
   "outputs": [
    {
     "data": {
      "text/plain": [
       "tensor([[ 0.0013, -0.0097, -0.0107,  ...,  0.0088, -0.0066,  0.0040],\n",
       "        [-0.0093,  0.0021,  0.0107,  ...,  0.0003,  0.0007,  0.0027],\n",
       "        [ 0.0085, -0.0038,  0.0023,  ..., -0.0218, -0.0126,  0.0017],\n",
       "        ...,\n",
       "        [ 0.0034, -0.0230,  0.0046,  ...,  0.0049, -0.0056,  0.0109],\n",
       "        [-0.0020,  0.0027, -0.0104,  ...,  0.0089, -0.0030,  0.0080],\n",
       "        [ 0.0027,  0.0078, -0.0043,  ..., -0.0089,  0.0020,  0.0119]])"
      ]
     },
     "execution_count": 155,
     "metadata": {},
     "output_type": "execute_result"
    }
   ],
   "source": [
    "# sample from random normal with standard dev = 0.01\n",
    "model.fc1.weight.data.normal_(std=0.01)"
   ]
  },
  {
   "cell_type": "markdown",
   "metadata": {},
   "source": [
    "### Forward pass\n",
    "\n",
    "Now that we have a network, let's see what happens when we pass in an image."
   ]
  },
  {
   "cell_type": "code",
   "execution_count": 156,
   "metadata": {},
   "outputs": [
    {
     "data": {
      "text/plain": [
       "torch.Size([64, 1, 28, 28])"
      ]
     },
     "execution_count": 156,
     "metadata": {},
     "output_type": "execute_result"
    }
   ],
   "source": [
    "# Grab some data \n",
    "dataiter = iter(trainloader)\n",
    "images, labels = dataiter.next()\n",
    "\n",
    "images.shape"
   ]
  },
  {
   "cell_type": "code",
   "execution_count": 165,
   "metadata": {},
   "outputs": [
    {
     "name": "stdout",
     "output_type": "stream",
     "text": [
      "torch.Size([1, 10])\n"
     ]
    },
    {
     "data": {
      "image/png": "[encoded data removed]",
      "text/plain": [
       "<Figure size 432x648 with 2 Axes>"
      ]
     },
     "metadata": {
      "image/png": {
       "height": 226,
       "width": 423
      },
      "needs_background": "light"
     },
     "output_type": "display_data"
    }
   ],
   "source": [
    "# Resize images into a 1D vector, new shape is (batch size, color channels, image pixels) \n",
    "#images.resize_(64, 1, 784)\n",
    "images.resize_(images.shape[0], 1, 784) #to automatically get batch size\n",
    "\n",
    "# Forward pass through the network\n",
    "img_idx = 0\n",
    "ps = model.forward(images[img_idx,:])\n",
    "\n",
    "img = images[img_idx]\n",
    "helper.view_classify(img.view(1, 28, 28), ps)\n",
    "\n",
    "print(ps.shape)"
   ]
  },
  {
   "cell_type": "markdown",
   "metadata": {},
   "source": [
    "As you can see above, our network has basically no idea what this digit is. It's because we haven't trained it yet, all the weights are random!\n",
    "\n",
    "### Using `nn.Sequential`\n",
    "\n",
    "PyTorch provides a convenient way to build networks like this where a tensor is passed sequentially through operations, `nn.Sequential` ([documentation](https://pytorch.org/docs/master/nn.html#torch.nn.Sequential)). Using this to build the equivalent network:"
   ]
  },
  {
   "cell_type": "code",
   "execution_count": 166,
   "metadata": {},
   "outputs": [
    {
     "name": "stdout",
     "output_type": "stream",
     "text": [
      "Sequential(\n",
      "  (0): Linear(in_features=784, out_features=128, bias=True)\n",
      "  (1): ReLU()\n",
      "  (2): Linear(in_features=128, out_features=64, bias=True)\n",
      "  (3): ReLU()\n",
      "  (4): Linear(in_features=64, out_features=10, bias=True)\n",
      "  (5): Softmax()\n",
      ")\n"
     ]
    },
    {
     "data": {
      "image/png": "[encoded data removed]",
      "text/plain": [
       "<Figure size 432x648 with 2 Axes>"
      ]
     },
     "metadata": {
      "image/png": {
       "height": 226,
       "width": 423
      },
      "needs_background": "light"
     },
     "output_type": "display_data"
    }
   ],
   "source": [
    "# Hyperparameters for our network\n",
    "input_size = 784\n",
    "hidden_sizes = [128, 64]\n",
    "output_size = 10\n",
    "\n",
    "# Build a feed-forward network\n",
    "model = nn.Sequential(nn.Linear(input_size, hidden_sizes[0]),\n",
    "                      nn.ReLU(),\n",
    "                      nn.Linear(hidden_sizes[0], hidden_sizes[1]),\n",
    "                      nn.ReLU(),\n",
    "                      nn.Linear(hidden_sizes[1], output_size),\n",
    "                      nn.Softmax(dim=1))\n",
    "print(model)\n",
    "\n",
    "# Forward pass through the network and display output\n",
    "images, labels = next(iter(trainloader))\n",
    "images.resize_(images.shape[0], 1, 784)\n",
    "ps = model.forward(images[0,:])\n",
    "helper.view_classify(images[0].view(1, 28, 28), ps)"
   ]
  },
  {
   "cell_type": "markdown",
   "metadata": {},
   "source": [
    "Here our model is the same as before: 784 input units, a hidden layer with 128 units, ReLU activation, 64 unit hidden layer, another ReLU, then the output layer with 10 units, and the softmax output.\n",
    "\n",
    "The operations are availble by passing in the appropriate index. For example, if you want to get first Linear operation and look at the weights, you'd use `model[0]`."
   ]
  },
  {
   "cell_type": "code",
   "execution_count": 170,
   "metadata": {},
   "outputs": [
    {
     "name": "stdout",
     "output_type": "stream",
     "text": [
      "Linear(in_features=784, out_features=128, bias=True)\n"
     ]
    },
    {
     "data": {
      "text/plain": [
       "torch.Size([64, 128])"
      ]
     },
     "execution_count": 170,
     "metadata": {},
     "output_type": "execute_result"
    }
   ],
   "source": [
    "print(model[0])\n",
    "model[0].weight.shape\n",
    "model[2].weight.shape"
   ]
  },
  {
   "cell_type": "markdown",
   "metadata": {},
   "source": [
    "You can also pass in an `OrderedDict` to name the individual layers and operations, instead of using incremental integers. Note that dictionary keys must be unique, so _each operation must have a different name_."
   ]
  },
  {
   "cell_type": "code",
   "execution_count": 171,
   "metadata": {},
   "outputs": [
    {
     "data": {
      "text/plain": [
       "Sequential(\n",
       "  (fc1): Linear(in_features=784, out_features=128, bias=True)\n",
       "  (relu1): ReLU()\n",
       "  (fc2): Linear(in_features=128, out_features=64, bias=True)\n",
       "  (relu2): ReLU()\n",
       "  (output): Linear(in_features=64, out_features=10, bias=True)\n",
       "  (softmax): Softmax()\n",
       ")"
      ]
     },
     "execution_count": 171,
     "metadata": {},
     "output_type": "execute_result"
    }
   ],
   "source": [
    "from collections import OrderedDict\n",
    "model = nn.Sequential(OrderedDict([\n",
    "                      ('fc1', nn.Linear(input_size, hidden_sizes[0])),\n",
    "                      ('relu1', nn.ReLU()),\n",
    "                      ('fc2', nn.Linear(hidden_sizes[0], hidden_sizes[1])),\n",
    "                      ('relu2', nn.ReLU()),\n",
    "                      ('output', nn.Linear(hidden_sizes[1], output_size)),\n",
    "                      ('softmax', nn.Softmax(dim=1))]))\n",
    "model"
   ]
  },
  {
   "cell_type": "markdown",
   "metadata": {},
   "source": [
    "Now you can access layers either by integer or the name"
   ]
  },
  {
   "cell_type": "code",
   "execution_count": 172,
   "metadata": {},
   "outputs": [
    {
     "name": "stdout",
     "output_type": "stream",
     "text": [
      "Linear(in_features=784, out_features=128, bias=True)\n",
      "Linear(in_features=784, out_features=128, bias=True)\n"
     ]
    }
   ],
   "source": [
    "print(model[0])\n",
    "print(model.fc1)"
   ]
  },
  {
   "cell_type": "markdown",
   "metadata": {},
   "source": [
    "In the next notebook, we'll see how we can train a neural network to accuractly predict the numbers appearing in the MNIST images."
   ]
  }
 ],
 "metadata": {
  "kernelspec": {
   "display_name": "Python 3",
   "language": "python",
   "name": "python3"
  },
  "language_info": {
   "codemirror_mode": {
    "name": "ipython",
    "version": 3
   },
   "file_extension": ".py",
   "mimetype": "text/x-python",
   "name": "python",
   "nbconvert_exporter": "python",
   "pygments_lexer": "ipython3",
   "version": "3.7.1"
  }
 },
 "nbformat": 4,
 "nbformat_minor": 2
}
